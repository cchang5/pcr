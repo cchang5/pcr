{
 "cells": [
  {
   "cell_type": "code",
   "execution_count": 1,
   "metadata": {
    "collapsed": true
   },
   "outputs": [],
   "source": [
    "import numpy as np\n",
    "import pandas as pd\n",
    "import matplotlib.pyplot as plt\n",
    "%matplotlib inline"
   ]
  },
  {
   "cell_type": "code",
   "execution_count": 96,
   "metadata": {},
   "outputs": [
    {
     "data": {
      "text/html": [
       "<div>\n",
       "<style scoped>\n",
       "    .dataframe tbody tr th:only-of-type {\n",
       "        vertical-align: middle;\n",
       "    }\n",
       "\n",
       "    .dataframe tbody tr th {\n",
       "        vertical-align: top;\n",
       "    }\n",
       "\n",
       "    .dataframe thead th {\n",
       "        text-align: right;\n",
       "    }\n",
       "</style>\n",
       "<table border=\"1\" class=\"dataframe\">\n",
       "  <thead>\n",
       "    <tr style=\"text-align: right;\">\n",
       "      <th></th>\n",
       "      <th>2state_t</th>\n",
       "      <th>2state_Q</th>\n",
       "      <th>2state_dZ0_q0_mean</th>\n",
       "      <th>2state_dZ0_q0_sdev</th>\n",
       "      <th>2state_dgV_q0_mean</th>\n",
       "      <th>2state_dgV_q0_sdev</th>\n",
       "      <th>2state_dZ0_q1_mean</th>\n",
       "      <th>2state_dZ0_q1_sdev</th>\n",
       "      <th>2state_dgV_q1_mean</th>\n",
       "      <th>2state_dgV_q1_sdev</th>\n",
       "    </tr>\n",
       "  </thead>\n",
       "  <tbody>\n",
       "    <tr>\n",
       "      <th>1</th>\n",
       "      <td>0.0</td>\n",
       "      <td>0.528402</td>\n",
       "      <td>-1.480288</td>\n",
       "      <td>0.008166</td>\n",
       "      <td>-4.312425</td>\n",
       "      <td>0.129165</td>\n",
       "      <td>-1.493094</td>\n",
       "      <td>0.008912</td>\n",
       "      <td>-3.706849</td>\n",
       "      <td>0.110318</td>\n",
       "    </tr>\n",
       "    <tr>\n",
       "      <th>2</th>\n",
       "      <td>1.0</td>\n",
       "      <td>0.799174</td>\n",
       "      <td>-1.480448</td>\n",
       "      <td>0.011020</td>\n",
       "      <td>-4.310496</td>\n",
       "      <td>0.161952</td>\n",
       "      <td>-1.492817</td>\n",
       "      <td>0.011903</td>\n",
       "      <td>-3.847020</td>\n",
       "      <td>0.138166</td>\n",
       "    </tr>\n",
       "    <tr>\n",
       "      <th>3</th>\n",
       "      <td>2.0</td>\n",
       "      <td>0.826446</td>\n",
       "      <td>-1.473509</td>\n",
       "      <td>0.021630</td>\n",
       "      <td>-4.346139</td>\n",
       "      <td>0.061405</td>\n",
       "      <td>-1.486426</td>\n",
       "      <td>0.022389</td>\n",
       "      <td>-3.856027</td>\n",
       "      <td>0.064832</td>\n",
       "    </tr>\n",
       "    <tr>\n",
       "      <th>4</th>\n",
       "      <td>3.0</td>\n",
       "      <td>0.810344</td>\n",
       "      <td>-1.473904</td>\n",
       "      <td>0.009618</td>\n",
       "      <td>-4.309278</td>\n",
       "      <td>0.067002</td>\n",
       "      <td>-1.485704</td>\n",
       "      <td>0.010227</td>\n",
       "      <td>-3.856232</td>\n",
       "      <td>0.085871</td>\n",
       "    </tr>\n",
       "    <tr>\n",
       "      <th>5</th>\n",
       "      <td>4.0</td>\n",
       "      <td>0.846515</td>\n",
       "      <td>-1.463188</td>\n",
       "      <td>0.013752</td>\n",
       "      <td>-4.276245</td>\n",
       "      <td>0.166453</td>\n",
       "      <td>-1.474968</td>\n",
       "      <td>0.014537</td>\n",
       "      <td>-3.832267</td>\n",
       "      <td>0.147287</td>\n",
       "    </tr>\n",
       "  </tbody>\n",
       "</table>\n",
       "</div>"
      ],
      "text/plain": [
       "0  2state_t  2state_Q  2state_dZ0_q0_mean  2state_dZ0_q0_sdev  \\\n",
       "1       0.0  0.528402           -1.480288            0.008166   \n",
       "2       1.0  0.799174           -1.480448            0.011020   \n",
       "3       2.0  0.826446           -1.473509            0.021630   \n",
       "4       3.0  0.810344           -1.473904            0.009618   \n",
       "5       4.0  0.846515           -1.463188            0.013752   \n",
       "\n",
       "0  2state_dgV_q0_mean  2state_dgV_q0_sdev  2state_dZ0_q1_mean  \\\n",
       "1           -4.312425            0.129165           -1.493094   \n",
       "2           -4.310496            0.161952           -1.492817   \n",
       "3           -4.346139            0.061405           -1.486426   \n",
       "4           -4.309278            0.067002           -1.485704   \n",
       "5           -4.276245            0.166453           -1.474968   \n",
       "\n",
       "0  2state_dZ0_q1_sdev  2state_dgV_q1_mean  2state_dgV_q1_sdev  \n",
       "1            0.008912           -3.706849            0.110318  \n",
       "2            0.011903           -3.847020            0.138166  \n",
       "3            0.022389           -3.856027            0.064832  \n",
       "4            0.010227           -3.856232            0.085871  \n",
       "5            0.014537           -3.832267            0.147287  "
      ]
     },
     "execution_count": 96,
     "metadata": {},
     "output_type": "execute_result"
    }
   ],
   "source": [
    "ens = '3296'\n",
    "nstate_list = [2]\n",
    "\n",
    "#corrtype = '2pt'\n",
    "#xlim = [5.7,15.3]\n",
    "#xticks = [6,7,8,9,10,11,12,13,14,15]\n",
    "#xpref = 10\n",
    "\n",
    "#corrtype = 'd2pt'\n",
    "#xlim = [1.7,6.3]\n",
    "#xticks = [2,3,4,5,6]\n",
    "#xpref = 4\n",
    "\n",
    "#corrtype = 'gV8'\n",
    "#xlim = [-0.3,4.3]\n",
    "#xticks = [0,1,2,3,4]\n",
    "#xpref = 2\n",
    "\n",
    "#corrtype = 'dgV8'\n",
    "#xlim = [-0.3,3.3]\n",
    "#xticks = [0,1,2,3]\n",
    "#xpref = 1\n",
    "\n",
    "#corrtype = 'gV10'\n",
    "#xlim = [-0.3,4.3]\n",
    "#xticks = [0,1,2,3,4]\n",
    "#xpref = 2\n",
    "\n",
    "#corrtype = 'dgV10'\n",
    "#xlim = [-0.3,4.3]\n",
    "#xticks = [0,1,2,3,4]\n",
    "#xpref = 2\n",
    "\n",
    "npref = 2\n",
    "filename = './data/%s_stability_%s.csv' %(ens,corrtype)\n",
    "data = open(filename,'r')\n",
    "df = pd.read_csv(filename,index_col=0,header=None).T\n",
    "df"
   ]
  },
  {
   "cell_type": "code",
   "execution_count": 97,
   "metadata": {
    "collapsed": true
   },
   "outputs": [],
   "source": [
    "# plot params\n",
    "figsize = (3.50394*2,2*2.1655535534)\n",
    "ms = '6'\n",
    "cs = 6\n",
    "fs_l = 14\n",
    "fs_xy = 14\n",
    "ts = 14\n",
    "lw = 1\n",
    "plt_axes = [0.14,0.155,0.825,0.825]\n",
    "# state and q label\n",
    "pparam = dict()\n",
    "# state\n",
    "pparam['color'] = dict()\n",
    "pparam['color']['2state'] = 'k' # blue\n",
    "pparam['color']['q0'] = 'k' # dark blue\n",
    "pparam['color']['q1'] = 'grey' # dark blue\n",
    "# q\n",
    "pparam['shape'] = dict()\n",
    "pparam['shape']['q0'] = 'o'\n",
    "pparam['shape']['q1'] = 's'\n",
    "# label translator\n",
    "pparam['label'] = dict()\n",
    "pparam['label']['2pt'] = 'C_{\\mathrm{2pt}}(t)\\ t_{\\mathrm{min}}'\n",
    "pparam['label']['d2pt'] = 'C^\\prime_{\\mathrm{2pt}}(t)\\ t_{\\mathrm{min}}'\n",
    "pparam['label']['gV8'] = 'C_{\\mathrm{3pt}}(8,t^\\prime)\\ t^\\prime_{\\mathrm{min}}'\n",
    "pparam['label']['dgV8'] = 'C^\\prime_{\\mathrm{3pt}}(8,t^\\prime)\\ t^\\prime_{\\mathrm{min}}'\n",
    "pparam['label']['gV10'] = 'C_{\\mathrm{3pt}}(10,t^\\prime)\\ t^\\prime_{\\mathrm{min}}'\n",
    "pparam['label']['dgV10'] = 'C^\\prime_{\\mathrm{3pt}}(10,t^\\prime)\\ t^\\prime_{\\mathrm{max}}'"
   ]
  },
  {
   "cell_type": "code",
   "execution_count": 98,
   "metadata": {},
   "outputs": [
    {
     "data": {
      "image/png": "[encoded data removed]",
      "text/plain": [
       "<Figure size 504.567x311.84 with 1 Axes>"
      ]
     },
     "metadata": {},
     "output_type": "display_data"
    }
   ],
   "source": [
    "fig = plt.figure('Q-value stability plot',figsize=figsize)\n",
    "ax = plt.axes(plt_axes)\n",
    "x = df['2state_t']\n",
    "for nstate in nstate_list:\n",
    "    xshifted = x + 0.1*(nstate-2)\n",
    "    y = df['%sstate_Q' %nstate]\n",
    "    ax.errorbar(xshifted,y=y,marker='^',color=pparam['color']['%sstate'%nstate],capsize=cs,markersize=ms,\\\n",
    "                elinewidth=lw,mew=lw,fillstyle='none',label='%s-state' %nstate, ls='none')\n",
    "# preferred\n",
    "ax.errorbar(xpref+ 0.1*(npref-2),y=df.loc[df['2state_t']==xpref]['%sstate_Q' %npref],marker='^',color=pparam['color']['%sstate'%npref],capsize=cs,markersize=ms,\\\n",
    "            elinewidth=lw,mew=lw,fillstyle='full',label='%s-state' %npref, ls='none')\n",
    "ax.errorbar(x=[-5,10],y=[0.1,0.1],color='k',ls='--')\n",
    "#ax.legend(fontsize=fs_l,edgecolor='k',fancybox=False)\n",
    "ax.set_xlabel(r'$%s$' %pparam['label'][corrtype], fontsize=fs_xy)\n",
    "ax.set_ylabel(r'$Q$-value', fontsize=fs_xy)\n",
    "ax.set_xlim(xlim)\n",
    "ax.set_xticks(xticks)\n",
    "ax.xaxis.set_tick_params(labelsize=ts,width=lw)\n",
    "ax.yaxis.set_tick_params(labelsize=ts,width=lw)\n",
    "[ax.spines[key].set_linewidth(lw) for key in ax.spines]\n",
    "plt.show()\n",
    "fig.savefig('./figures/%s_%s_Q.pdf' %(ens,corrtype), transparent=True)"
   ]
  },
  {
   "cell_type": "code",
   "execution_count": 99,
   "metadata": {},
   "outputs": [
    {
     "data": {
      "image/png": "[encoded data removed]",
      "text/plain": [
       "<Figure size 504.567x311.84 with 1 Axes>"
      ]
     },
     "metadata": {},
     "output_type": "display_data"
    }
   ],
   "source": [
    "fig = plt.figure('dZ0 stability plot',figsize=figsize)\n",
    "ax = plt.axes(plt_axes)\n",
    "x = df['2state_t']\n",
    "for nstate in nstate_list:\n",
    "    for q in [0,1]:\n",
    "        xshifted = x + 0.1*(nstate-2)\n",
    "        xshifted = xshifted + 0.1*(q-0.5)\n",
    "        y = df['%sstate_dZ0_q%s_mean' %(nstate,q)]\n",
    "        yerr = df['%sstate_dZ0_q%s_sdev' %(nstate,q)]\n",
    "        ax.errorbar(xshifted,y=y,yerr=yerr,marker=pparam['shape']['q%s' %q],color=pparam['color']['q%s' %q],capsize=cs,markersize=ms,\\\n",
    "                    elinewidth=lw,mew=lw,fillstyle='none',label='%s-state' %nstate, ls='none')\n",
    "# preferred\n",
    "for q in [0,1]:\n",
    "    ax.errorbar(xpref+ 0.1*(npref-2)+0.1*(q-0.5),y=df.loc[df['2state_t']==xpref]['%sstate_dZ0_q%s_mean' %(npref,q)],marker=pparam['shape']['q%s' %q],color=pparam['color']['q%s' %q],capsize=cs,markersize=ms,\\\n",
    "                elinewidth=lw,mew=lw,fillstyle='full',label='%s-state' %npref, ls='none')\n",
    "#ax.legend(fontsize=fs_l,edgecolor='k',fancybox=False)\n",
    "ax.set_xlabel(r'$%s$' %pparam['label'][corrtype], fontsize=fs_xy)\n",
    "ax.set_ylabel(r'$z_0^\\prime$', fontsize=fs_xy)\n",
    "ax.set_xlim(xlim)\n",
    "ax.set_xticks(xticks)\n",
    "ax.xaxis.set_tick_params(labelsize=ts,width=lw)\n",
    "ax.yaxis.set_tick_params(labelsize=ts,width=lw)\n",
    "[ax.spines[key].set_linewidth(lw) for key in ax.spines]\n",
    "plt.show()\n",
    "fig.savefig('./figures/%s_%s_dZ0.pdf' %(ens,corrtype), transparent=True)"
   ]
  },
  {
   "cell_type": "code",
   "execution_count": 100,
   "metadata": {},
   "outputs": [
    {
     "data": {
      "image/png": "[encoded data removed]",
      "text/plain": [
       "<Figure size 504.567x311.84 with 1 Axes>"
      ]
     },
     "metadata": {},
     "output_type": "display_data"
    }
   ],
   "source": [
    "fig = plt.figure('dgV stability plot',figsize=figsize)\n",
    "ax = plt.axes(plt_axes)\n",
    "x = df['2state_t']\n",
    "for nstate in nstate_list:\n",
    "    for q in [0,1]:\n",
    "        xshifted = x + 0.1*(nstate-2)\n",
    "        xshifted = xshifted + 0.1*(q-0.5)\n",
    "        y = df['%sstate_dgV_q%s_mean' %(nstate,q)]\n",
    "        yerr = df['%sstate_dgV_q%s_sdev' %(nstate,q)]\n",
    "        ax.errorbar(xshifted,y=y,yerr=yerr,marker=pparam['shape']['q%s' %q],color=pparam['color']['q%s' %q],capsize=cs,markersize=ms,\\\n",
    "                    elinewidth=lw,mew=lw,fillstyle='none',label='%s-state' %nstate, ls='none')\n",
    "for q in [0,1]:\n",
    "    ax.errorbar(xpref+ 0.1*(npref-2)+ 0.1*(q-0.5),y=df.loc[df['2state_t']==xpref]['%sstate_dgV_q%s_mean' %(npref,q)],marker=pparam['shape']['q%s' %q],color=pparam['color']['q%s' %q],capsize=cs,markersize=ms,\\\n",
    "                elinewidth=lw,mew=lw,fillstyle='full',label='%s-state' %npref, ls='none')\n",
    "#ax.legend(fontsize=fs_l,edgecolor='k',fancybox=False)\n",
    "ax.set_xlabel(r'$%s$' %pparam['label'][corrtype], fontsize=fs_xy)\n",
    "ax.set_ylabel(r'$g_{00}^\\prime$', fontsize=fs_xy)\n",
    "ax.set_xlim(xlim)\n",
    "ax.set_xticks(xticks)\n",
    "ax.xaxis.set_tick_params(labelsize=ts,width=lw)\n",
    "ax.yaxis.set_tick_params(labelsize=ts,width=lw)\n",
    "[ax.spines[key].set_linewidth(lw) for key in ax.spines]\n",
    "plt.show()\n",
    "fig.savefig('./figures/%s_%s_dgV.pdf' %(ens,corrtype), transparent=True)"
   ]
  },
  {
   "cell_type": "code",
   "execution_count": null,
   "metadata": {
    "collapsed": true
   },
   "outputs": [],
   "source": []
  },
  {
   "cell_type": "code",
   "execution_count": null,
   "metadata": {
    "collapsed": true
   },
   "outputs": [],
   "source": []
  },
  {
   "cell_type": "code",
   "execution_count": null,
   "metadata": {
    "collapsed": true
   },
   "outputs": [],
   "source": []
  }
 ],
 "metadata": {
  "kernelspec": {
   "display_name": "Python 3",
   "language": "python",
   "name": "python3"
  },
  "language_info": {
   "codemirror_mode": {
    "name": "ipython",
    "version": 3
   },
   "file_extension": ".py",
   "mimetype": "text/x-python",
   "name": "python",
   "nbconvert_exporter": "python",
   "pygments_lexer": "ipython3",
   "version": "3.6.1"
  }
 },
 "nbformat": 4,
 "nbformat_minor": 2
}
