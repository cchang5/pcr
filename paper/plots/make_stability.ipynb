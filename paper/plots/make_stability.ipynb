{
 "cells": [
  {
   "cell_type": "code",
   "execution_count": 1,
   "metadata": {
    "collapsed": true
   },
   "outputs": [],
   "source": [
    "import numpy as np\n",
    "import pandas as pd\n",
    "import matplotlib.pyplot as plt\n",
    "%matplotlib inline"
   ]
  },
  {
   "cell_type": "code",
   "execution_count": 88,
   "metadata": {},
   "outputs": [
    {
     "data": {
      "text/html": [
       "<div>\n",
       "<style scoped>\n",
       "    .dataframe tbody tr th:only-of-type {\n",
       "        vertical-align: middle;\n",
       "    }\n",
       "\n",
       "    .dataframe tbody tr th {\n",
       "        vertical-align: top;\n",
       "    }\n",
       "\n",
       "    .dataframe thead th {\n",
       "        text-align: right;\n",
       "    }\n",
       "</style>\n",
       "<table border=\"1\" class=\"dataframe\">\n",
       "  <thead>\n",
       "    <tr style=\"text-align: right;\">\n",
       "      <th></th>\n",
       "      <th>2state_t</th>\n",
       "      <th>2state_Q</th>\n",
       "      <th>2state_dZ0_q0_mean</th>\n",
       "      <th>2state_dZ0_q0_sdev</th>\n",
       "      <th>2state_dgV_q0_mean</th>\n",
       "      <th>2state_dgV_q0_sdev</th>\n",
       "      <th>2state_dZ0_q1_mean</th>\n",
       "      <th>2state_dZ0_q1_sdev</th>\n",
       "      <th>2state_dgV_q1_mean</th>\n",
       "      <th>2state_dgV_q1_sdev</th>\n",
       "    </tr>\n",
       "  </thead>\n",
       "  <tbody>\n",
       "    <tr>\n",
       "      <th>1</th>\n",
       "      <td>0.0</td>\n",
       "      <td>0.757855</td>\n",
       "      <td>-1.483850</td>\n",
       "      <td>0.011324</td>\n",
       "      <td>-4.177047</td>\n",
       "      <td>0.118902</td>\n",
       "      <td>-1.495032</td>\n",
       "      <td>0.012164</td>\n",
       "      <td>-3.742374</td>\n",
       "      <td>0.115682</td>\n",
       "    </tr>\n",
       "    <tr>\n",
       "      <th>2</th>\n",
       "      <td>1.0</td>\n",
       "      <td>0.785742</td>\n",
       "      <td>-1.487401</td>\n",
       "      <td>0.014907</td>\n",
       "      <td>-4.248074</td>\n",
       "      <td>0.059780</td>\n",
       "      <td>-1.499180</td>\n",
       "      <td>0.015262</td>\n",
       "      <td>-3.823541</td>\n",
       "      <td>0.066378</td>\n",
       "    </tr>\n",
       "    <tr>\n",
       "      <th>3</th>\n",
       "      <td>2.0</td>\n",
       "      <td>0.835515</td>\n",
       "      <td>-1.472605</td>\n",
       "      <td>0.014691</td>\n",
       "      <td>-4.343782</td>\n",
       "      <td>0.067636</td>\n",
       "      <td>-1.485316</td>\n",
       "      <td>0.016151</td>\n",
       "      <td>-3.847147</td>\n",
       "      <td>0.063317</td>\n",
       "    </tr>\n",
       "    <tr>\n",
       "      <th>4</th>\n",
       "      <td>3.0</td>\n",
       "      <td>0.825628</td>\n",
       "      <td>-1.465987</td>\n",
       "      <td>0.015449</td>\n",
       "      <td>-4.315044</td>\n",
       "      <td>0.093118</td>\n",
       "      <td>-1.478257</td>\n",
       "      <td>0.015719</td>\n",
       "      <td>-3.841958</td>\n",
       "      <td>0.087121</td>\n",
       "    </tr>\n",
       "    <tr>\n",
       "      <th>5</th>\n",
       "      <td>4.0</td>\n",
       "      <td>0.730039</td>\n",
       "      <td>-1.466936</td>\n",
       "      <td>0.012339</td>\n",
       "      <td>-4.418595</td>\n",
       "      <td>0.125860</td>\n",
       "      <td>-1.477392</td>\n",
       "      <td>0.013758</td>\n",
       "      <td>-3.982826</td>\n",
       "      <td>0.103287</td>\n",
       "    </tr>\n",
       "  </tbody>\n",
       "</table>\n",
       "</div>"
      ],
      "text/plain": [
       "0  2state_t  2state_Q  2state_dZ0_q0_mean  2state_dZ0_q0_sdev  \\\n",
       "1       0.0  0.757855           -1.483850            0.011324   \n",
       "2       1.0  0.785742           -1.487401            0.014907   \n",
       "3       2.0  0.835515           -1.472605            0.014691   \n",
       "4       3.0  0.825628           -1.465987            0.015449   \n",
       "5       4.0  0.730039           -1.466936            0.012339   \n",
       "\n",
       "0  2state_dgV_q0_mean  2state_dgV_q0_sdev  2state_dZ0_q1_mean  \\\n",
       "1           -4.177047            0.118902           -1.495032   \n",
       "2           -4.248074            0.059780           -1.499180   \n",
       "3           -4.343782            0.067636           -1.485316   \n",
       "4           -4.315044            0.093118           -1.478257   \n",
       "5           -4.418595            0.125860           -1.477392   \n",
       "\n",
       "0  2state_dZ0_q1_sdev  2state_dgV_q1_mean  2state_dgV_q1_sdev  \n",
       "1            0.012164           -3.742374            0.115682  \n",
       "2            0.015262           -3.823541            0.066378  \n",
       "3            0.016151           -3.847147            0.063317  \n",
       "4            0.015719           -3.841958            0.087121  \n",
       "5            0.013758           -3.982826            0.103287  "
      ]
     },
     "execution_count": 88,
     "metadata": {},
     "output_type": "execute_result"
    }
   ],
   "source": [
    "ens = '3296'\n",
    "nstate_list = [2]\n",
    "\n",
    "#corrtype = '2pt'\n",
    "#xlim = [1.7,7.3]\n",
    "#xticks = [2,3,4,5,6,7]\n",
    "#xpref = 4\n",
    "\n",
    "#corrtype = 'd2pt'\n",
    "#xlim = [1.7,6.3]\n",
    "#xticks = [2,3,4,5,6]\n",
    "#xpref = 4\n",
    "\n",
    "#corrtype = 'gV8'\n",
    "#xlim = [-0.3,4.3]\n",
    "#xticks = [0,1,2,3,4]\n",
    "#xpref = 2\n",
    "\n",
    "#corrtype = 'dgV8'\n",
    "#xlim = [-0.3,3.3]\n",
    "#xticks = [0,1,2,3]\n",
    "#xpref = 1\n",
    "\n",
    "#corrtype = 'gV10'\n",
    "#xlim = [-0.7,4.3]\n",
    "#xticks = [0,1,2,3,4]\n",
    "#xpref = 2\n",
    "\n",
    "corrtype = 'dgV10'\n",
    "xlim = [-0,3,4.3]\n",
    "xticks = [0,1,2,3,4]\n",
    "xpref = 2\n",
    "\n",
    "npref = 2\n",
    "filename = './data/%s_stability_%s.csv' %(ens,corrtype)\n",
    "data = open(filename,'r')\n",
    "df = pd.read_csv(filename,index_col=0,header=None).T\n",
    "df"
   ]
  },
  {
   "cell_type": "code",
   "execution_count": 89,
   "metadata": {
    "collapsed": true
   },
   "outputs": [],
   "source": [
    "# plot params\n",
    "figsize = (3.50394*2,2*2.1655535534)\n",
    "ms = '6'\n",
    "cs = 6\n",
    "fs_l = 14\n",
    "fs_xy = 14\n",
    "ts = 14\n",
    "lw = 1\n",
    "plt_axes = [0.14,0.155,0.825,0.825]\n",
    "# state and q label\n",
    "pparam = dict()\n",
    "# state\n",
    "pparam['color'] = dict()\n",
    "pparam['color']['2state'] = 'k' # blue\n",
    "pparam['color']['q0'] = 'k' # dark blue\n",
    "pparam['color']['q1'] = 'grey' # dark blue\n",
    "# q\n",
    "pparam['shape'] = dict()\n",
    "pparam['shape']['q0'] = 'o'\n",
    "pparam['shape']['q1'] = 's'\n",
    "# label translator\n",
    "pparam['label'] = dict()\n",
    "pparam['label']['2pt'] = 'C_{\\mathrm{2pt}}(t)\\ t_{\\mathrm{min}}'\n",
    "pparam['label']['d2pt'] = 'C^\\prime_{\\mathrm{2pt}}(t)\\ t_{\\mathrm{min}}'\n",
    "pparam['label']['gV8'] = 'C_{\\mathrm{3pt}}(8,t^\\prime)\\ t^\\prime_{\\mathrm{min}}'\n",
    "pparam['label']['dgV8'] = 'C^\\prime_{\\mathrm{3pt}}(8,t^\\prime)\\ t^\\prime_{\\mathrm{min}}'\n",
    "pparam['label']['gV10'] = 'C_{\\mathrm{3pt}}(10,t^\\prime)\\ t^\\prime_{\\mathrm{min}}'\n",
    "pparam['label']['dgV10'] = 'C^\\prime_{\\mathrm{3pt}}(10,t^\\prime)\\ t^\\prime_{\\mathrm{max}}'"
   ]
  },
  {
   "cell_type": "code",
   "execution_count": 90,
   "metadata": {},
   "outputs": [
    {
     "ename": "ValueError",
     "evalue": "too many values to unpack (expected 2)",
     "output_type": "error",
     "traceback": [
      "\u001b[0;31m---------------------------------------------------------------------------\u001b[0m",
      "\u001b[0;31mValueError\u001b[0m                                Traceback (most recent call last)",
      "\u001b[0;32m<ipython-input-90-4f83be73d0ab>\u001b[0m in \u001b[0;36m<module>\u001b[0;34m()\u001b[0m\n\u001b[1;32m     12\u001b[0m \u001b[0max\u001b[0m\u001b[0;34m.\u001b[0m\u001b[0mset_xlabel\u001b[0m\u001b[0;34m(\u001b[0m\u001b[0;34mr'$%s$'\u001b[0m \u001b[0;34m%\u001b[0m\u001b[0mpparam\u001b[0m\u001b[0;34m[\u001b[0m\u001b[0;34m'label'\u001b[0m\u001b[0;34m]\u001b[0m\u001b[0;34m[\u001b[0m\u001b[0mcorrtype\u001b[0m\u001b[0;34m]\u001b[0m\u001b[0;34m,\u001b[0m \u001b[0mfontsize\u001b[0m\u001b[0;34m=\u001b[0m\u001b[0mfs_xy\u001b[0m\u001b[0;34m)\u001b[0m\u001b[0;34m\u001b[0m\u001b[0m\n\u001b[1;32m     13\u001b[0m \u001b[0max\u001b[0m\u001b[0;34m.\u001b[0m\u001b[0mset_ylabel\u001b[0m\u001b[0;34m(\u001b[0m\u001b[0;34mr'$Q$-value'\u001b[0m\u001b[0;34m,\u001b[0m \u001b[0mfontsize\u001b[0m\u001b[0;34m=\u001b[0m\u001b[0mfs_xy\u001b[0m\u001b[0;34m)\u001b[0m\u001b[0;34m\u001b[0m\u001b[0m\n\u001b[0;32m---> 14\u001b[0;31m \u001b[0max\u001b[0m\u001b[0;34m.\u001b[0m\u001b[0mset_xlim\u001b[0m\u001b[0;34m(\u001b[0m\u001b[0mxlim\u001b[0m\u001b[0;34m)\u001b[0m\u001b[0;34m\u001b[0m\u001b[0m\n\u001b[0m\u001b[1;32m     15\u001b[0m \u001b[0max\u001b[0m\u001b[0;34m.\u001b[0m\u001b[0mset_xticks\u001b[0m\u001b[0;34m(\u001b[0m\u001b[0mxticks\u001b[0m\u001b[0;34m)\u001b[0m\u001b[0;34m\u001b[0m\u001b[0m\n\u001b[1;32m     16\u001b[0m \u001b[0max\u001b[0m\u001b[0;34m.\u001b[0m\u001b[0mxaxis\u001b[0m\u001b[0;34m.\u001b[0m\u001b[0mset_tick_params\u001b[0m\u001b[0;34m(\u001b[0m\u001b[0mlabelsize\u001b[0m\u001b[0;34m=\u001b[0m\u001b[0mts\u001b[0m\u001b[0;34m,\u001b[0m\u001b[0mwidth\u001b[0m\u001b[0;34m=\u001b[0m\u001b[0mlw\u001b[0m\u001b[0;34m)\u001b[0m\u001b[0;34m\u001b[0m\u001b[0m\n",
      "\u001b[0;32m/Users/cchang5/anaconda/envs/pyqcd3/lib/python3.6/site-packages/matplotlib/axes/_base.py\u001b[0m in \u001b[0;36mset_xlim\u001b[0;34m(self, left, right, emit, auto, **kw)\u001b[0m\n\u001b[1;32m   3106\u001b[0m \u001b[0;34m\u001b[0m\u001b[0m\n\u001b[1;32m   3107\u001b[0m         \u001b[0;32mif\u001b[0m \u001b[0mright\u001b[0m \u001b[0;32mis\u001b[0m \u001b[0;32mNone\u001b[0m \u001b[0;32mand\u001b[0m \u001b[0miterable\u001b[0m\u001b[0;34m(\u001b[0m\u001b[0mleft\u001b[0m\u001b[0;34m)\u001b[0m\u001b[0;34m:\u001b[0m\u001b[0;34m\u001b[0m\u001b[0m\n\u001b[0;32m-> 3108\u001b[0;31m             \u001b[0mleft\u001b[0m\u001b[0;34m,\u001b[0m \u001b[0mright\u001b[0m \u001b[0;34m=\u001b[0m \u001b[0mleft\u001b[0m\u001b[0;34m\u001b[0m\u001b[0m\n\u001b[0m\u001b[1;32m   3109\u001b[0m \u001b[0;34m\u001b[0m\u001b[0m\n\u001b[1;32m   3110\u001b[0m         \u001b[0mself\u001b[0m\u001b[0;34m.\u001b[0m\u001b[0m_process_unit_info\u001b[0m\u001b[0;34m(\u001b[0m\u001b[0mxdata\u001b[0m\u001b[0;34m=\u001b[0m\u001b[0;34m(\u001b[0m\u001b[0mleft\u001b[0m\u001b[0;34m,\u001b[0m \u001b[0mright\u001b[0m\u001b[0;34m)\u001b[0m\u001b[0;34m)\u001b[0m\u001b[0;34m\u001b[0m\u001b[0m\n",
      "\u001b[0;31mValueError\u001b[0m: too many values to unpack (expected 2)"
     ]
    },
    {
     "data": {
      "image/png": "[encoded data removed]",
      "text/plain": [
       "<Figure size 504.567x311.84 with 1 Axes>"
      ]
     },
     "metadata": {},
     "output_type": "display_data"
    }
   ],
   "source": [
    "fig = plt.figure('Q-value stability plot',figsize=figsize)\n",
    "ax = plt.axes(plt_axes)\n",
    "x = df['2state_t']\n",
    "for nstate in nstate_list:\n",
    "    xshifted = x + 0.1*(nstate-2)\n",
    "    y = df['%sstate_Q' %nstate]\n",
    "    ax.errorbar(xshifted,y=y,marker='^',color=pparam['color']['%sstate'%nstate],capsize=cs,markersize=ms,\\\n",
    "                elinewidth=lw,mew=lw,fillstyle='none',label='%s-state' %nstate, ls='none')\n",
    "# preferred\n",
    "ax.errorbar(xpref+ 0.1*(npref-2),y=df.loc[df['2state_t']==xpref]['%sstate_Q' %npref],marker='^',color=pparam['color']['%sstate'%npref],capsize=cs,markersize=ms,\\\n",
    "            elinewidth=lw,mew=lw,fillstyle='full',label='%s-state' %npref, ls='none')\n",
    "ax.errorbar(x=[-5,10],y=[0.1,0.1],color='k',ls='--')\n",
    "#ax.legend(fontsize=fs_l,edgecolor='k',fancybox=False)\n",
    "ax.set_xlabel(r'$%s$' %pparam['label'][corrtype], fontsize=fs_xy)\n",
    "ax.set_ylabel(r'$Q$-value', fontsize=fs_xy)\n",
    "ax.set_xlim(xlim)\n",
    "ax.set_xticks(xticks)\n",
    "ax.xaxis.set_tick_params(labelsize=ts,width=lw)\n",
    "ax.yaxis.set_tick_params(labelsize=ts,width=lw)\n",
    "[ax.spines[key].set_linewidth(lw) for key in ax.spines]\n",
    "plt.show()\n",
    "fig.savefig('./figures/%s_%s_Q.pdf' %(ens,corrtype), transparent=True)"
   ]
  },
  {
   "cell_type": "code",
   "execution_count": 87,
   "metadata": {},
   "outputs": [
    {
     "ename": "ValueError",
     "evalue": "too many values to unpack (expected 2)",
     "output_type": "error",
     "traceback": [
      "\u001b[0;31m---------------------------------------------------------------------------\u001b[0m",
      "\u001b[0;31mValueError\u001b[0m                                Traceback (most recent call last)",
      "\u001b[0;32m<ipython-input-87-fd59ec81255c>\u001b[0m in \u001b[0;36m<module>\u001b[0;34m()\u001b[0m\n\u001b[1;32m     15\u001b[0m \u001b[0max\u001b[0m\u001b[0;34m.\u001b[0m\u001b[0mset_xlabel\u001b[0m\u001b[0;34m(\u001b[0m\u001b[0;34mr'$%s$'\u001b[0m \u001b[0;34m%\u001b[0m\u001b[0mpparam\u001b[0m\u001b[0;34m[\u001b[0m\u001b[0;34m'label'\u001b[0m\u001b[0;34m]\u001b[0m\u001b[0;34m[\u001b[0m\u001b[0mcorrtype\u001b[0m\u001b[0;34m]\u001b[0m\u001b[0;34m,\u001b[0m \u001b[0mfontsize\u001b[0m\u001b[0;34m=\u001b[0m\u001b[0mfs_xy\u001b[0m\u001b[0;34m)\u001b[0m\u001b[0;34m\u001b[0m\u001b[0m\n\u001b[1;32m     16\u001b[0m \u001b[0max\u001b[0m\u001b[0;34m.\u001b[0m\u001b[0mset_ylabel\u001b[0m\u001b[0;34m(\u001b[0m\u001b[0;34mr'$z_0^\\prime$'\u001b[0m\u001b[0;34m,\u001b[0m \u001b[0mfontsize\u001b[0m\u001b[0;34m=\u001b[0m\u001b[0mfs_xy\u001b[0m\u001b[0;34m)\u001b[0m\u001b[0;34m\u001b[0m\u001b[0m\n\u001b[0;32m---> 17\u001b[0;31m \u001b[0max\u001b[0m\u001b[0;34m.\u001b[0m\u001b[0mset_xlim\u001b[0m\u001b[0;34m(\u001b[0m\u001b[0mxlim\u001b[0m\u001b[0;34m)\u001b[0m\u001b[0;34m\u001b[0m\u001b[0m\n\u001b[0m\u001b[1;32m     18\u001b[0m \u001b[0max\u001b[0m\u001b[0;34m.\u001b[0m\u001b[0mset_xticks\u001b[0m\u001b[0;34m(\u001b[0m\u001b[0mxticks\u001b[0m\u001b[0;34m)\u001b[0m\u001b[0;34m\u001b[0m\u001b[0m\n\u001b[1;32m     19\u001b[0m \u001b[0max\u001b[0m\u001b[0;34m.\u001b[0m\u001b[0mxaxis\u001b[0m\u001b[0;34m.\u001b[0m\u001b[0mset_tick_params\u001b[0m\u001b[0;34m(\u001b[0m\u001b[0mlabelsize\u001b[0m\u001b[0;34m=\u001b[0m\u001b[0mts\u001b[0m\u001b[0;34m,\u001b[0m\u001b[0mwidth\u001b[0m\u001b[0;34m=\u001b[0m\u001b[0mlw\u001b[0m\u001b[0;34m)\u001b[0m\u001b[0;34m\u001b[0m\u001b[0m\n",
      "\u001b[0;32m/Users/cchang5/anaconda/envs/pyqcd3/lib/python3.6/site-packages/matplotlib/axes/_base.py\u001b[0m in \u001b[0;36mset_xlim\u001b[0;34m(self, left, right, emit, auto, **kw)\u001b[0m\n\u001b[1;32m   3106\u001b[0m \u001b[0;34m\u001b[0m\u001b[0m\n\u001b[1;32m   3107\u001b[0m         \u001b[0;32mif\u001b[0m \u001b[0mright\u001b[0m \u001b[0;32mis\u001b[0m \u001b[0;32mNone\u001b[0m \u001b[0;32mand\u001b[0m \u001b[0miterable\u001b[0m\u001b[0;34m(\u001b[0m\u001b[0mleft\u001b[0m\u001b[0;34m)\u001b[0m\u001b[0;34m:\u001b[0m\u001b[0;34m\u001b[0m\u001b[0m\n\u001b[0;32m-> 3108\u001b[0;31m             \u001b[0mleft\u001b[0m\u001b[0;34m,\u001b[0m \u001b[0mright\u001b[0m \u001b[0;34m=\u001b[0m \u001b[0mleft\u001b[0m\u001b[0;34m\u001b[0m\u001b[0m\n\u001b[0m\u001b[1;32m   3109\u001b[0m \u001b[0;34m\u001b[0m\u001b[0m\n\u001b[1;32m   3110\u001b[0m         \u001b[0mself\u001b[0m\u001b[0;34m.\u001b[0m\u001b[0m_process_unit_info\u001b[0m\u001b[0;34m(\u001b[0m\u001b[0mxdata\u001b[0m\u001b[0;34m=\u001b[0m\u001b[0;34m(\u001b[0m\u001b[0mleft\u001b[0m\u001b[0;34m,\u001b[0m \u001b[0mright\u001b[0m\u001b[0;34m)\u001b[0m\u001b[0;34m)\u001b[0m\u001b[0;34m\u001b[0m\u001b[0m\n",
      "\u001b[0;31mValueError\u001b[0m: too many values to unpack (expected 2)"
     ]
    },
    {
     "data": {
      "image/png": "[encoded data removed]",
      "text/plain": [
       "<Figure size 504.567x311.84 with 1 Axes>"
      ]
     },
     "metadata": {},
     "output_type": "display_data"
    }
   ],
   "source": [
    "fig = plt.figure('dZ0 stability plot',figsize=figsize)\n",
    "ax = plt.axes(plt_axes)\n",
    "x = df['2state_t']\n",
    "for nstate in nstate_list:\n",
    "    for q in [0,1]:\n",
    "        xshifted = x + 0.1*(nstate-2)\n",
    "        xshifted = xshifted + 0.1*(q-0.5)\n",
    "        y = df['%sstate_dZ0_q%s_mean' %(nstate,q)]\n",
    "        yerr = df['%sstate_dZ0_q%s_sdev' %(nstate,q)]\n",
    "        ax.errorbar(xshifted,y=y,yerr=yerr,marker=pparam['shape']['q%s' %q],color=pparam['color']['q%s' %q],capsize=cs,markersize=ms,\\\n",
    "                    elinewidth=lw,mew=lw,fillstyle='none',label='%s-state' %nstate, ls='none')\n",
    "# preferred\n",
    "for q in [0,1]:\n",
    "    ax.errorbar(xpref+ 0.1*(npref-2)+0.1*(q-0.5),y=df.loc[df['2state_t']==xpref]['%sstate_dZ0_q%s_mean' %(npref,q)],marker=pparam['shape']['q%s' %q],color=pparam['color']['q%s' %q],capsize=cs,markersize=ms,\\\n",
    "                elinewidth=lw,mew=lw,fillstyle='full',label='%s-state' %npref, ls='none')\n",
    "#ax.legend(fontsize=fs_l,edgecolor='k',fancybox=False)\n",
    "ax.set_xlabel(r'$%s$' %pparam['label'][corrtype], fontsize=fs_xy)\n",
    "ax.set_ylabel(r'$z_0^\\prime$', fontsize=fs_xy)\n",
    "ax.set_xlim(xlim)\n",
    "ax.set_xticks(xticks)\n",
    "ax.xaxis.set_tick_params(labelsize=ts,width=lw)\n",
    "ax.yaxis.set_tick_params(labelsize=ts,width=lw)\n",
    "[ax.spines[key].set_linewidth(lw) for key in ax.spines]\n",
    "plt.show()\n",
    "fig.savefig('./figures/%s_%s_dZ0.pdf' %(ens,corrtype), transparent=True)"
   ]
  },
  {
   "cell_type": "code",
   "execution_count": 83,
   "metadata": {},
   "outputs": [
    {
     "data": {
      "image/png": "[encoded data removed]",
      "text/plain": [
       "<Figure size 504.567x311.84 with 1 Axes>"
      ]
     },
     "metadata": {},
     "output_type": "display_data"
    }
   ],
   "source": [
    "fig = plt.figure('dgV stability plot',figsize=figsize)\n",
    "ax = plt.axes(plt_axes)\n",
    "x = df['2state_t']\n",
    "for nstate in nstate_list:\n",
    "    for q in [0,1]:\n",
    "        xshifted = x + 0.1*(nstate-2)\n",
    "        xshifted = xshifted + 0.1*(q-0.5)\n",
    "        y = df['%sstate_dgV_q%s_mean' %(nstate,q)]\n",
    "        yerr = df['%sstate_dgV_q%s_sdev' %(nstate,q)]\n",
    "        ax.errorbar(xshifted,y=y,yerr=yerr,marker=pparam['shape']['q%s' %q],color=pparam['color']['q%s' %q],capsize=cs,markersize=ms,\\\n",
    "                    elinewidth=lw,mew=lw,fillstyle='none',label='%s-state' %nstate, ls='none')\n",
    "for q in [0,1]:\n",
    "    ax.errorbar(xpref+ 0.1*(npref-2)+ 0.1*(q-0.5),y=df.loc[df['2state_t']==xpref]['%sstate_dgV_q%s_mean' %(npref,q)],marker=pparam['shape']['q%s' %q],color=pparam['color']['q%s' %q],capsize=cs,markersize=ms,\\\n",
    "                elinewidth=lw,mew=lw,fillstyle='full',label='%s-state' %npref, ls='none')\n",
    "#ax.legend(fontsize=fs_l,edgecolor='k',fancybox=False)\n",
    "ax.set_xlabel(r'$%s$' %pparam['label'][corrtype], fontsize=fs_xy)\n",
    "ax.set_ylabel(r'$g_{00}^\\prime$', fontsize=fs_xy)\n",
    "ax.set_xlim(xlim)\n",
    "ax.set_xticks(xticks)\n",
    "ax.xaxis.set_tick_params(labelsize=ts,width=lw)\n",
    "ax.yaxis.set_tick_params(labelsize=ts,width=lw)\n",
    "[ax.spines[key].set_linewidth(lw) for key in ax.spines]\n",
    "plt.show()\n",
    "fig.savefig('./figures/%s_%s_dgV.pdf' %(ens,corrtype), transparent=True)"
   ]
  },
  {
   "cell_type": "code",
   "execution_count": null,
   "metadata": {},
   "outputs": [],
   "source": []
  },
  {
   "cell_type": "code",
   "execution_count": null,
   "metadata": {},
   "outputs": [],
   "source": []
  },
  {
   "cell_type": "code",
   "execution_count": null,
   "metadata": {
    "collapsed": true
   },
   "outputs": [],
   "source": []
  }
 ],
 "metadata": {
  "kernelspec": {
   "display_name": "Python 3",
   "language": "python",
   "name": "python3"
  },
  "language_info": {
   "codemirror_mode": {
    "name": "ipython",
    "version": 3
   },
   "file_extension": ".py",
   "mimetype": "text/x-python",
   "name": "python",
   "nbconvert_exporter": "python",
   "pygments_lexer": "ipython3",
   "version": "3.6.1"
  }
 },
 "nbformat": 4,
 "nbformat_minor": 2
}
