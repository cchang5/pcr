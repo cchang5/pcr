{
 "cells": [
  {
   "cell_type": "code",
   "execution_count": 1,
   "metadata": {},
   "outputs": [],
   "source": [
    "import numpy as np\n",
    "import pandas as pd\n",
    "import gvar as gv\n",
    "import lsqfit\n",
    "import matplotlib.pyplot as plt\n",
    "%matplotlib inline\n",
    "import yaml\n",
    "import lib_new as lib"
   ]
  },
  {
   "cell_type": "code",
   "execution_count": 3,
   "metadata": {},
   "outputs": [
    {
     "data": {
      "text/plain": [
       "odict_keys(['nucleon_q0', 'dnucleon_q0', 'gV_q0_T8', 'dgV_q0_T8', 'zgV_T8', 'gV_q0_T10', 'dgV_q0_T10', 'zgV_T10', 'nucleon_q1', 'dnucleon_q1', 'gV_q1_T8', 'dgV_q1_T8', 'gV_q1_T10', 'dgV_q1_T10', 'znucleon'])"
      ]
     },
     "execution_count": 3,
     "metadata": {},
     "output_type": "execute_result"
    }
   ],
   "source": [
    "# load script parameters\n",
    "switch = lib.load_switches()\n",
    "# load priors\n",
    "priors = lib.load_priors()\n",
    "# load data [cfg,t,z]\n",
    "data3d = lib.load_data()\n",
    "# make data [cfg,t] or [cfg,z]\n",
    "data = lib.contract_current(data3d)\n",
    "gvdata = gv.dataset.avg_data(data)\n",
    "gvdata.keys()"
   ]
  },
  {
   "cell_type": "code",
   "execution_count": null,
   "metadata": {
    "collapsed": true
   },
   "outputs": [],
   "source": []
  }
 ],
 "metadata": {
  "kernelspec": {
   "display_name": "Python 3",
   "language": "python",
   "name": "python3"
  },
  "language_info": {
   "codemirror_mode": {
    "name": "ipython",
    "version": 3
   },
   "file_extension": ".py",
   "mimetype": "text/x-python",
   "name": "python",
   "nbconvert_exporter": "python",
   "pygments_lexer": "ipython3",
   "version": "3.6.1"
  }
 },
 "nbformat": 4,
 "nbformat_minor": 2
}
