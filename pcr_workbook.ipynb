{
 "cells": [
  {
   "cell_type": "markdown",
   "metadata": {},
   "source": [
    "# clover-on-clover connected proton charge radius"
   ]
  },
  {
   "cell_type": "code",
   "execution_count": 1,
   "metadata": {
    "collapsed": true
   },
   "outputs": [],
   "source": [
    "import numpy as np\n",
    "import pandas as pd\n",
    "import gvar as gv\n",
    "import lsqfit\n",
    "import matplotlib.pyplot as plt\n",
    "%matplotlib notebook\n",
    "from tqdm import tqdm_notebook as tqdm\n",
    "import pcr_lib as pcr"
   ]
  },
  {
   "cell_type": "markdown",
   "metadata": {},
   "source": [
    "# switches"
   ]
  },
  {
   "cell_type": "code",
   "execution_count": 2,
   "metadata": {
    "collapsed": true
   },
   "outputs": [],
   "source": [
    "switches = dict()\n",
    "# PLOTTING OPTIONS\n",
    "switches['plot'] = dict()\n",
    "switches['plot']['correlator'] = False # data (effective mass, Zs, etc...)\n",
    "switches['plot']['stability'] = True # correlator stability after fit\n",
    "# FITTING OPTIONS\n",
    "switches['fit'] = dict()\n",
    "switches['fit']['switch'] = True # turn fitting on/off\n",
    "# choose dataset\n",
    "switches['fit']['clist']   = ['nucleon','dnucleon','gV'] #,'dgV'] # the derivatives should be fit with the correlators or else there's no handel on the parameters\n",
    "switches['fit']['snk_src'] = ['SS']\n",
    "switches['fit']['mom']     = [0,1,2] # n in 2*n*pi/L\n",
    "switches['fit']['nstate']  = 2\n",
    "# time region\n",
    "switches['fit']['T_3pt']   = [10,14] # t_snk for 3pt: only 10 or 14\n",
    "switches['fit']['trange'] = dict()\n",
    "switches['fit']['trange']['nucleon_tmin']   = [3,3] # snk location\n",
    "switches['fit']['trange']['nucleon_tmax']   = [10,10] # snk location\n",
    "switches['fit']['trange']['dnucleon_tmin']   = [5,5] # snk location\n",
    "switches['fit']['trange']['dnucleon_tmax']   = [10,10] # snk location\n",
    "switches['fit']['trange']['gV_T10_tsym']   = [1,1] # symmetrically drop data: current insertion time\n",
    "switches['fit']['trange']['gV_T14_tsym']   = [5,5] # current insertion time\n",
    "switches['fit']['trange']['dgV_T10_tsym']   = [1,1] # current insertion time\n",
    "switches['fit']['trange']['dgV_T14_tsym']   = [1,1] # current insertion time\n",
    "# PRIORS\n",
    "switches['p'] = dict()\n",
    "# nucleon q = 0\n",
    "switches['p']['E0_q0'] = gv.gvar(0.7,0.14)\n",
    "switches['p']['Z0s_q0'] = gv.gvar(2.2E-4,1.1E-4) # z = Z/sqrt(2E)\n",
    "switches['p']['Z0p_q0'] = gv.gvar(0.0,1.0)\n",
    "switches['p']['E1_q0'] = gv.gvar(-0.7,0.7) # log splitting to two pions\n",
    "switches['p']['Z1s_q0'] = gv.gvar(0.0,1.1E-4)\n",
    "switches['p']['Z1p_q0'] = gv.gvar(0.0,1.0)\n",
    "# nucleon q = 1\n",
    "switches['p']['E0_q1'] = gv.gvar(0.75,0.15)\n",
    "switches['p']['Z0s_q1'] = gv.gvar(2E-4,1E-4)\n",
    "switches['p']['Z0p_q1'] = gv.gvar(0.0,1.0)\n",
    "switches['p']['E1_q1'] = gv.gvar(-0.8,1.1) # splitting to zero momentum 2 pion and 1 pion\n",
    "switches['p']['Z1s_q1'] = gv.gvar(0.0,1E-4)\n",
    "switches['p']['Z1p_q1'] = gv.gvar(0.0,1.0)\n",
    "# nucleon q = 2\n",
    "switches['p']['E0_q2'] = gv.gvar(0.85,0.17)\n",
    "switches['p']['Z0s_q2'] = gv.gvar(1.6E-4,0.8E-4)\n",
    "switches['p']['Z0p_q2'] = gv.gvar(0.0,1.0)\n",
    "switches['p']['E1_q2'] = gv.gvar(-1.0,1.3) # splitting to zero momentum 2 pion and 1 pion\n",
    "switches['p']['Z1s_q2'] = gv.gvar(0.0,0.8E-4)\n",
    "switches['p']['Z1p_q2'] = gv.gvar(0.0,1.0)\n",
    "# dnucleon q = 0 (Y comes before Z... so it's a derivative? something like that)\n",
    "switches['p']['Y0s_q0'] = gv.gvar(-3.2E-4,1.6E-4) # z' = Z'/sqrt(2E)\n",
    "switches['p']['Y0p_q0'] = gv.gvar(0.0,1.0)\n",
    "switches['p']['Y1s_q0'] = gv.gvar(0.0,3.2E-4)\n",
    "switches['p']['Y1p_q0'] = gv.gvar(0.0,1.0)\n",
    "# dnucleon q = 1\n",
    "switches['p']['Y0s_q1'] = gv.gvar(-3E-4,1.5E-4)\n",
    "switches['p']['Y0p_q1'] = gv.gvar(0.0,1.0)\n",
    "switches['p']['Y1s_q1'] = gv.gvar(0.0,3E-4)\n",
    "switches['p']['Y1p_q1'] = gv.gvar(0.0,1.0)\n",
    "# dnucleon q = 2\n",
    "switches['p']['Y0s_q2'] = gv.gvar(-2.4E-4,1.2E-4)\n",
    "switches['p']['Y0p_q2'] = gv.gvar(0.0,1.0)\n",
    "switches['p']['Y1s_q2'] = gv.gvar(0.0,2.4E-4)\n",
    "switches['p']['Y1p_q2'] = gv.gvar(0.0,1.0)\n",
    "# gV q = 0\n",
    "switches['p']['V00_q0'] = gv.gvar(1.25,1.25)\n",
    "switches['p']['V10_q0'] = gv.gvar(0.0,1.25)\n",
    "switches['p']['V11_q0'] = gv.gvar(0.0,1.25)\n",
    "# gV q = 1\n",
    "switches['p']['V00_q1'] = gv.gvar(1.0,1.0)\n",
    "switches['p']['V10_q1'] = gv.gvar(0.0,1.0)\n",
    "switches['p']['V11_q1'] = gv.gvar(0.0,1.0)\n",
    "# gV q = 2\n",
    "switches['p']['V00_q2'] = gv.gvar(0.6,0.6)\n",
    "switches['p']['V10_q2'] = gv.gvar(0.0,0.6)\n",
    "switches['p']['V11_q2'] = gv.gvar(0.0,0.6)\n",
    "# dgV q = 0\n",
    "switches['p']['U00_q0'] = gv.gvar(0.0,1.0)\n",
    "switches['p']['U10_q0'] = gv.gvar(0.0,1.0)\n",
    "switches['p']['U11_q0'] = gv.gvar(0.0,1.0)\n",
    "# dgV q = 1\n",
    "switches['p']['U00_q1'] = gv.gvar(0.0,1.0)\n",
    "switches['p']['U10_q1'] = gv.gvar(0.0,1.0)\n",
    "switches['p']['U11_q1'] = gv.gvar(0.0,1.0)\n",
    "# dgV q = 2\n",
    "switches['p']['U00_q2'] = gv.gvar(0.0,1.0)\n",
    "switches['p']['U10_q2'] = gv.gvar(0.0,1.0)\n",
    "switches['p']['U11_q2'] = gv.gvar(0.0,1.0)"
   ]
  },
  {
   "cell_type": "markdown",
   "metadata": {},
   "source": [
    "# read csv file into dataframe\n",
    "## ensemble information\n",
    "+ 0.12fm lattice spacing\n",
    "+ pion mass 400 MeV\n",
    "+ isoclover\n",
    "\n",
    "## configuration information\n",
    "+ 1000 to 2950 skip 10 (196 configurations)\n",
    "    + configuration 1470 is missing for baryon 2pt tsrc 48, idx = 47\n",
    "+ two point correlation function\n",
    "    + `bar_s22_SS_tsrc_[0,48].dat.[re,im]`\n",
    "    + two sources at `[0,48]`\n",
    "    + each line contains:\n",
    "        + individual momentum `[0,1,-1,2,-2]`\n",
    "        + individual time slice\n",
    "        + array of z-dependence\n",
    "        + *e.g.* `bar_s22_S0src_S0_px0_py0_pz0_t0_re`\n",
    "+ three point correlation function\n",
    "    + `barff_s22_SS_g8_T[10,14]_tsrc_[0,48].dat.[re,im]`\n",
    "    + `g8` corresponds to the `V4` current insertion\n",
    "    + `T[10,14]` is snk location\n",
    "    + two sources at `[0,48]`\n",
    "    + each line contains:\n",
    "        + individual momentum transfer (snk at zero momentum) `[0,1,-1,2,-2]`\n",
    "        + individual time slice\n",
    "        + array of z-dependence at current insertion\n",
    "        + *e.g.* `barff_s2_S0src_S0snk_T10_px0_py0_pz0_g8_t0_re`\n",
    "\n",
    "## strategy\n",
    "+ read zero momentum spatial correlator\n",
    "+ perform source average\n",
    "+ construct two and three point (with momentum transfer)\n",
    "+ construct moment correlators\n",
    "\n",
    "## notes\n",
    "+ read SS src snk"
   ]
  },
  {
   "cell_type": "code",
   "execution_count": 3,
   "metadata": {},
   "outputs": [
    {
     "name": "stdout",
     "output_type": "stream",
     "text": [
      "2pt: bar_s22_S0src_S0_px0_py0_pz0_re (195, 96, 32)\n",
      "3pt: barff_s2_S0src_S0snk_T10_px0_py0_pz0_g8_re (195, 96, 32)\n",
      "3pt: barff_s2_S0src_S0snk_T14_px0_py0_pz0_g8_re (195, 96, 32)\n"
     ]
    }
   ],
   "source": [
    "zdata = pcr.read_csv(switches)"
   ]
  },
  {
   "cell_type": "markdown",
   "metadata": {},
   "source": [
    "# construct two and three point correlators\n",
    "+ Lattice 2016 proceedings @ https://arxiv.org/pdf/1610.02354.pdf\n",
    "+ project to definite momentum"
   ]
  },
  {
   "cell_type": "code",
   "execution_count": 4,
   "metadata": {},
   "outputs": [
    {
     "data": {
      "text/plain": [
       "dict_keys(['nucleon_SS_q0', 'nucleon_SS_q1', 'nucleon_SS_q2', 'gV_SS_T10_q0', 'gV_SS_T14_q0', 'gV_SS_T10_q1', 'gV_SS_T14_q1', 'gV_SS_T10_q2', 'gV_SS_T14_q2'])"
      ]
     },
     "execution_count": 4,
     "metadata": {},
     "output_type": "execute_result"
    }
   ],
   "source": [
    "data = dict()\n",
    "# two point correlation function\n",
    "if 'nucleon' in switches['fit']['clist']:\n",
    "    for snk_src in switches['fit']['snk_src']:\n",
    "        snk = snk_src[0]\n",
    "        src = snk_src[1]\n",
    "        for n in switches['fit']['mom']:\n",
    "            k = 2.*np.pi*n/32\n",
    "            pos = zdata['bar_s22_%s0src_%s0_px0_py0_pz0_re' %(src,snk)]*np.cos(k*np.arange(32))\n",
    "            neg = zdata['bar_s22_%s0src_%s0_px0_py0_pz0_re' %(src,snk)]*np.cos(-k*np.arange(32))\n",
    "            data['nucleon_%s_q%s' %(str(snk_src),str(n))] = np.sum((pos+neg)/2,axis=2) # mom avg & project to 3 momentum\n",
    "# gV correlation function\n",
    "if 'gV' in switches['fit']['clist']:\n",
    "    for snk_src in switches['fit']['snk_src']:\n",
    "        snk = snk_src[0]\n",
    "        src = snk_src[1]\n",
    "        for n in switches['fit']['mom']:\n",
    "            k = 2.*np.pi*n/32\n",
    "            for T in switches['fit']['T_3pt']:\n",
    "                pos = zdata['barff_s2_%s0src_%s0snk_T%s_px0_py0_pz0_g8_re' %(src,snk,str(T))]*np.cos(k*np.arange(32))\n",
    "                neg = zdata['barff_s2_%s0src_%s0snk_T%s_px0_py0_pz0_g8_re' %(src,snk,str(T))]*np.cos(-k*np.arange(32))\n",
    "                data['gV_%s_T%s_q%s' %(str(snk_src),str(T),str(n))] = np.sum((pos+neg)/2,axis=2) # mom avg & project to 3 momentum\n",
    "data.keys()"
   ]
  },
  {
   "cell_type": "markdown",
   "metadata": {},
   "source": [
    "# construct moments of correlation functions"
   ]
  },
  {
   "cell_type": "code",
   "execution_count": 5,
   "metadata": {
    "scrolled": true
   },
   "outputs": [
    {
     "name": "stdout",
     "output_type": "stream",
     "text": [
      "dict_keys(['nucleon_SS_q0', 'nucleon_SS_q1', 'nucleon_SS_q2', 'gV_SS_T10_q0', 'gV_SS_T14_q0', 'gV_SS_T10_q1', 'gV_SS_T14_q1', 'gV_SS_T10_q2', 'gV_SS_T14_q2', 'dnucleon_SS_q0', 'dnucleon_SS_q1', 'dnucleon_SS_q2'])\n"
     ]
    }
   ],
   "source": [
    "# two point moment data\n",
    "z = np.roll(np.arange(32)-15,17)\n",
    "rz2 = z**2\n",
    "# apply moment\n",
    "# output is Ncf * T * Z\n",
    "if 'dnucleon' in switches['fit']['clist']:\n",
    "    for q in switches['fit']['mom']:\n",
    "        for snk_src in switches['fit']['snk_src']:\n",
    "            snk = snk_src[0]\n",
    "            src = snk_src[1]\n",
    "            if q == 0:\n",
    "                D = -0.5*rz2\n",
    "            else:\n",
    "                k = 2.*np.pi*q/32\n",
    "                D = -z/(2.*k)*np.sin(k*np.arange(32))\n",
    "            if 'dnucleon' in switches['fit']['clist']:\n",
    "                temp = D*zdata['bar_s22_%s0src_%s0_px0_py0_pz0_re' %(src,snk)]\n",
    "                # UNCOMMENT TO PLOT Z DEPENDENCE\n",
    "                #pcr.plot_2pt_z(temp,title='2pt') #title='dnucleon_%s_q%s' %(snk_src,str(q)))\n",
    "                # project to 3 momentum\n",
    "                data['dnucleon_%s_q%s' %(snk_src,str(q))] = np.sum(temp,axis=2)\n",
    "            if 'dgV' in switches['fit']['clist']:\n",
    "                for T in switches['fit']['T_3pt']:\n",
    "                    temp = D*zdata['barff_s2_%s0src_%s0snk_T%s_px0_py0_pz0_g8_re' %(src,snk,str(T))]\n",
    "                    # UNCOMMENT TO PLOT Z DEPENDENCE\n",
    "                    #pcr.plot_3pt_z(temp,title='3pt') #title='dgV_%s_T%s_q%s' %(snk_src,str(T),str(q)))\n",
    "                    # project 3 momentum\n",
    "                    data['dgV_%s_T%s_q%s' %(snk_src,str(T),str(q))] = np.sum(temp,axis=2)\n",
    "print(data.keys())"
   ]
  },
  {
   "cell_type": "markdown",
   "metadata": {},
   "source": [
    "# construct correlated dataset"
   ]
  },
  {
   "cell_type": "code",
   "execution_count": 6,
   "metadata": {},
   "outputs": [
    {
     "name": "stdout",
     "output_type": "stream",
     "text": [
      "nucleon_SS_q0 (96,)\n",
      "nucleon_SS_q1 (96,)\n",
      "nucleon_SS_q2 (96,)\n",
      "gV_SS_T10_q0 (96,)\n",
      "gV_SS_T14_q0 (96,)\n",
      "gV_SS_T10_q1 (96,)\n",
      "gV_SS_T14_q1 (96,)\n",
      "gV_SS_T10_q2 (96,)\n",
      "gV_SS_T14_q2 (96,)\n",
      "dnucleon_SS_q0 (96,)\n",
      "dnucleon_SS_q1 (96,)\n",
      "dnucleon_SS_q2 (96,)\n"
     ]
    }
   ],
   "source": [
    "gvdata = gv.dataset.avg_data(data)\n",
    "for k in gvdata.keys():\n",
    "    print(k,np.shape(gvdata[k]))"
   ]
  },
  {
   "cell_type": "markdown",
   "metadata": {},
   "source": [
    "# plot correlation function"
   ]
  },
  {
   "cell_type": "code",
   "execution_count": 7,
   "metadata": {
    "scrolled": false
   },
   "outputs": [],
   "source": [
    "dat2name = [i for i in gvdata.keys() if i.split('_')[0] in ['nucleon']]\n",
    "datd2name = [i for i in gvdata.keys() if i.split('_')[0] in ['dnucleon']]\n",
    "dat3name = [i for i in gvdata.keys() if i.split('_')[0] in ['gV']]\n",
    "datd3name = [i for i in gvdata.keys() if i.split('_')[0] in ['dgV']]\n",
    "\n",
    "if switches['plot']['correlator']:\n",
    "    # plot effective mass correlator\n",
    "    fig = plt.figure('meff',figsize=(7,4.326237))\n",
    "    ax = plt.axes([0.15,0.15,0.8,0.8])\n",
    "    x = np.arange(2,18)\n",
    "    for d in dat2name:\n",
    "        meff = np.log(gvdata[d]/np.roll(gvdata[d],-1))[x]\n",
    "        ax.errorbar(x,y=[i.mean for i in meff],yerr=[i.sdev for i in meff],label=d)\n",
    "    ax.legend()\n",
    "    plt.draw()\n",
    "    # plot scaled two point correlator\n",
    "    x = np.arange(2,11)\n",
    "    for d in dat2name:\n",
    "        snk_src = d.split('_')[1]\n",
    "        if snk_src in ['SS','PP']:\n",
    "            fit = plt.figure('%s scaled correlator' %snk_src,figsize=(7,4.326237))\n",
    "            ax = plt.axes([0.15,0.15,0.8,0.8])\n",
    "            meff = np.log(gvdata[d]/np.roll(gvdata[d],-1))\n",
    "            scor = np.sqrt(gvdata[d]*np.exp(meff*np.arange(len(meff))))[x]\n",
    "            ax.errorbar(x,y=[i.mean for i in scor],yerr=[i.sdev for i in scor],label=d)\n",
    "        else:\n",
    "            pass\n",
    "    ax.legend()\n",
    "    plt.draw()\n",
    "    # plot two point slope\n",
    "    x = np.arange(2,11)\n",
    "    for dd in datd2name:\n",
    "        snk_src = dd.split('_')[1]\n",
    "        d = dd[1:] # two point name (take out derivative)\n",
    "        if snk_src in ['SS','PP']:\n",
    "            fit = plt.figure('%s two point slope' %snk_src,figsize=(7,4.326237))\n",
    "            ax = plt.axes([0.15,0.15,0.8,0.8])\n",
    "            meff = np.log(gvdata[d]/np.roll(gvdata[d],-1))\n",
    "            scor = np.sqrt(gvdata[d]*np.exp(meff*np.arange(len(meff))))\n",
    "            dcor = ((gvdata[dd]/gvdata[d]+0.5/meff**2+0.5*np.arange(len(meff))/meff)*0.5*scor)[x]\n",
    "            ax.errorbar(x,y=[i.mean for i in dcor],yerr=[i.sdev for i in dcor],label=dd)\n",
    "        else:\n",
    "            pass\n",
    "    ax.legend()\n",
    "    plt.draw()\n",
    "    # plot three point correlator\n",
    "    x = np.arange(0,16)\n",
    "    for d in dat3name:\n",
    "        snk_src = d.split('_')[1]\n",
    "        Tx = d.split('_')[2]\n",
    "        T = int(Tx[1:])\n",
    "        qx = d.split('_')[3]\n",
    "        q = int(qx[1:])\n",
    "        if snk_src in ['SS','PP']:\n",
    "            d2 = d.replace('gV','nucleon').replace('_%s' %Tx,'') # two point correlator name\n",
    "            d20 = d2.replace(qx,'q0') # zero momentum two point name\n",
    "            Tlist = np.arange(len(gvdata[d2]))\n",
    "            Esnk = np.mean(np.log(gvdata[d20]/np.roll(gvdata[d20],-1))[6:9]) # sink is always at zero momentum\n",
    "            Esrc = np.mean(np.log(gvdata[d2]/np.roll(gvdata[d2],-1))[6:9])\n",
    "            Zsnk = np.mean(np.sqrt(gvdata[d20]*np.exp(Esnk*Tlist))[6:9]) # sink is always at zero momentum\n",
    "            Zsrc = np.mean(np.sqrt(gvdata[d2]*np.exp(Esrc*Tlist))[6:9])\n",
    "            fig = plt.figure('%s gV correlator' %snk_src,figsize=(7,4.326237))\n",
    "            ax = plt.axes([0.15,0.15,0.8,0.8])\n",
    "            tlist = np.arange(len(gvdata[d]))\n",
    "            geff = (gvdata[d]*np.exp(Esnk*T)*np.exp((Esrc-Esnk)*tlist)/(Zsnk*Zsrc))[x]\n",
    "            ax.errorbar(x+0.1*q,y=[i.mean for i in geff],yerr=[i.sdev for i in geff],label=d,capsize=4,marker='o')\n",
    "            ax.legend()\n",
    "    plt.draw()"
   ]
  },
  {
   "cell_type": "markdown",
   "metadata": {},
   "source": [
    "# fit correlators\n",
    "+ blahblah... I'm too lazy for this... I will regret it later"
   ]
  },
  {
   "cell_type": "code",
   "execution_count": 8,
   "metadata": {},
   "outputs": [
    {
     "name": "stdout",
     "output_type": "stream",
     "text": [
      "{'E0_q0': 0.70(14), 'Z0s_q0': 0.00022(11), 'E1_q0': -0.70(70), 'Z1s_q0': 0.00000(11), 'E0_q1': 0.75(15), 'Z0s_q1': 0.00020(10), 'E1_q1': -0.8(1.1), 'Z1s_q1': 0.00000(10), 'E0_q2': 0.85(17), 'Z0s_q2': 0.000160(80), 'E1_q2': -1.0(1.3), 'Z1s_q2': 0.0(8.0)e-05, 'Y0s_q0': -0.00032(16), 'Y1s_q0': 0.00000(32), 'Y0s_q1': -0.00030(15), 'Y1s_q1': 0.00000(30), 'Y0s_q2': -0.00024(12), 'Y1s_q2': 0.00000(24), 'V00_q0': 1.2(1.2), 'V10_q0': 0.0(1.2), 'V11_q0': 0.0(1.2), 'V00_q1': 1.0(1.0), 'V10_q1': 0.0(1.0), 'V11_q1': 0.0(1.0), 'V00_q2': 0.60(60), 'V10_q2': 0.00(60), 'V11_q2': 0.00(60)}\n"
     ]
    },
    {
     "name": "stderr",
     "output_type": "stream",
     "text": [
      "/Users/cchang5/Physics/pcr/pcr_lib.py:146: RuntimeWarning: overflow encountered in exp\n",
      "  En += np.exp(p['E%s_q%s' %(str(i+1),str(q))])\n",
      "/Users/cchang5/Physics/pcr/pcr_lib.py:183: RuntimeWarning: overflow encountered in double_scalars\n",
      "  r += c2ptn * (dZn_snk/Zn_snk + dZn_src/Zn_src - 0.5/En**2 - 0.5*T/En)\n",
      "/Users/cchang5/Physics/pcr/pcr_lib.py:183: RuntimeWarning: overflow encountered in true_divide\n",
      "  r += c2ptn * (dZn_snk/Zn_snk + dZn_src/Zn_src - 0.5/En**2 - 0.5*T/En)\n"
     ]
    }
   ],
   "source": [
    "# instantiate fitter\n",
    "fitter = pcr.fitter_class(switches['fit']['clist'],switches['fit']['snk_src'],switches['fit']['mom'],switches['fit']['nstate'])\n",
    "# get priors\n",
    "p = fitter.p(switches)\n",
    "print(p)\n",
    "# result\n",
    "result = dict()\n",
    "# loop over t-range\n",
    "nucleon_tmin = switches['fit']['trange']['nucleon_tmin']\n",
    "nucleon_tmax = switches['fit']['trange']['nucleon_tmax']\n",
    "dnucleon_tmin = switches['fit']['trange']['dnucleon_tmin']\n",
    "dnucleon_tmax = switches['fit']['trange']['dnucleon_tmax']\n",
    "gV_T10_tsym = switches['fit']['trange']['gV_T10_tsym']\n",
    "gV_T14_tsym = switches['fit']['trange']['gV_T14_tsym']\n",
    "dgV_T10_tsym = switches['fit']['trange']['dgV_T10_tsym']\n",
    "dgV_T14_tsym = switches['fit']['trange']['dgV_T14_tsym']\n",
    "for t2min in np.arange(nucleon_tmin[0],nucleon_tmin[1]+1):\n",
    "    for t2max in np.arange(nucleon_tmax[0],nucleon_tmax[1]+1):\n",
    "        for dt2min in np.arange(dnucleon_tmin[0],dnucleon_tmin[1]+1):\n",
    "            for dt2max in np.arange(dnucleon_tmax[0],dnucleon_tmax[1]+1):\n",
    "                for t3sym10 in np.arange(gV_T10_tsym[0],gV_T10_tsym[1]+1):\n",
    "                    for t3sym14 in np.arange(gV_T14_tsym[0],gV_T14_tsym[1]+1):\n",
    "                        for dt3sym10 in np.arange(dgV_T10_tsym[0],dgV_T10_tsym[1]+1):\n",
    "                            for dt3sym14 in np.arange(dgV_T14_tsym[0],dgV_T14_tsym[1]+1):\n",
    "                                trange = dict()\n",
    "                                trange['nucleon'] = np.arange(t2min,t2max+1)\n",
    "                                trange['dnucleon'] = np.arange(dt2min,dt2max+1)\n",
    "                                trange['gV_T10'] = np.arange(t3sym10,11-t3sym10)\n",
    "                                trange['gV_T14'] = np.arange(t3sym14,15-t3sym14)\n",
    "                                trange['dgV_T10'] = np.arange(dt3sym10,11-dt3sym10)\n",
    "                                trange['dgV_T14'] = np.arange(dt3sym14,15-dt3sym14)\n",
    "                                x = fitter.x(switches,gvdata,trange)\n",
    "                                y = fitter.y(x,gvdata)\n",
    "                                if switches['fit']['switch']:\n",
    "                                    fit = lsqfit.nonlinear_fit(data=(x,y),prior=p,fcn=fitter.fit_function,maxit=100000)\n",
    "                                else:\n",
    "                                    fit = 'turn fitting on'\n",
    "                                key = '%s_%s_%s_%s_%s_%s_%s_%s' %(t2min,t2max,dt2min,dt2max,t3sym10,t3sym14,dt3sym10,dt3sym14)\n",
    "                                result[key] = fit"
   ]
  },
  {
   "cell_type": "markdown",
   "metadata": {
    "collapsed": true
   },
   "source": [
    "# Correlator stability plots"
   ]
  },
  {
   "cell_type": "code",
   "execution_count": 9,
   "metadata": {},
   "outputs": [],
   "source": [
    "if switches['plot']['stability']:\n",
    "    # CALCULATE STABILITY DIRECTION\n",
    "    tlist = []\n",
    "    for k in result.keys():\n",
    "        t = [int(i) for i in k.split('_')]\n",
    "        tlist.append(t)\n",
    "    plot_selector = np.std(tlist,axis=0)\n",
    "    # PLOTTING PARAMETERS (for labels, etc...)\n",
    "    # time range label\n",
    "    tlabel = ['nucleon tmin','nucleon tmax','dnucleon tmin','dnucleon tmax','gV10 tsym','gV14 tsym','dgV10 tsym','dgV14 tsym']\n",
    "    # momentum label\n",
    "    qlabel = dict()\n",
    "    qlabel[0] = dict()\n",
    "    qlabel[0]['marker'] = 'o'\n",
    "    qlabel[0]['color'] = 'black'\n",
    "    qlabel[1] = dict()\n",
    "    qlabel[1]['marker'] = '^'\n",
    "    qlabel[1]['color'] = 'red'\n",
    "    qlabel[2] = dict()\n",
    "    qlabel[2]['marker'] = 's'\n",
    "    qlabel[2]['color'] = 'blue'\n",
    "    # PLOT\n",
    "    # plot p-value of fits\n",
    "    for idx,p in enumerate(plot_selector):\n",
    "        if p == 0: pass\n",
    "        else:\n",
    "            # plot p-value\n",
    "            fig = plt.figure('p-value (same for all simultaneous fits)',figsize=(7,4.326237))\n",
    "            ax = plt.axes([0.15,0.15,0.8,0.8])\n",
    "            for k in result.keys(): # this loops over t range\n",
    "                x = int(k.split('_')[idx])\n",
    "                ax.errorbar(x,y=result[k].Q,marker='o',color='black')\n",
    "            #ax.legend()\n",
    "    # ground state energy\n",
    "    for idx,p in enumerate(plot_selector):\n",
    "        if p == 0: pass\n",
    "        else:\n",
    "            fig = plt.figure('E0 %s' %tlabel[idx],figsize=(7,4.326237))\n",
    "            ax = plt.axes([0.15,0.15,0.8,0.8])\n",
    "            for k in result.keys(): # this loops over t range\n",
    "                x = int(k.split('_')[idx])\n",
    "                for q in switches['fit']['mom']: # loops over momentum\n",
    "                    y = result[k].p['E0_q%s' %q]\n",
    "                    ax.errorbar(x,y=y.mean,yerr=y.sdev,marker=qlabel[q]['marker'],color=qlabel[q]['color'],capsize=3,label='E0_q%s' %q)\n",
    "            #ax.legend()\n",
    "            plt.show()\n",
    "    # ground state Z slope\n",
    "    if 'dnucleon' in switches['fit']['clist']:\n",
    "        for idx,p in enumerate(plot_selector):\n",
    "            if p == 0: pass\n",
    "            else:\n",
    "                smears = ''\n",
    "                smears = [i.lower() for i in np.unique(list(smears.join(switches['fit']['snk_src'])))]\n",
    "                for s in smears:\n",
    "                    fig = plt.figure('dZ0%s %s' %(s,tlabel[idx]),figsize=(7,4.326237))\n",
    "                    ax = plt.axes([0.15,0.15,0.8,0.8])\n",
    "                    for k in result.keys(): # this loops over t range\n",
    "                        x = int(k.split('_')[idx])\n",
    "                        for q in switches['fit']['mom']: # loops over momentum\n",
    "                            y = result[k].p['Y0%s_q%s' %(s,q)]\n",
    "                            ax.errorbar(x,y=y.mean,yerr=y.sdev,marker=qlabel[q]['marker'],color=qlabel[q]['color'],capsize=3,label='Y0%s_q%s' %(s,q))\n",
    "                    #ax.legend()\n",
    "                    plt.show()\n",
    "    # ground state matrix element\n",
    "    if 'gV' in switches['fit']['clist']:\n",
    "        for idx,p in enumerate(plot_selector):\n",
    "            if p == 0: pass\n",
    "            else:\n",
    "                fig = plt.figure('g00 %s' %tlabel[idx],figsize=(7,4.326237))\n",
    "                ax = plt.axes([0.15,0.15,0.8,0.8])\n",
    "                for k in result.keys(): # this loops over t range\n",
    "                    x = int(k.split('_')[idx])\n",
    "                    for q in switches['fit']['mom']: # loops over momentum\n",
    "                        y = result[k].p['V00_q%s' %q]\n",
    "                        ax.errorbar(x,y=y.mean,yerr=y.sdev,marker=qlabel[q]['marker'],color=qlabel[q]['color'],capsize=3,label='V00_q%s' %q)\n",
    "    else: pass"
   ]
  },
  {
   "cell_type": "code",
   "execution_count": 10,
   "metadata": {},
   "outputs": [
    {
     "name": "stdout",
     "output_type": "stream",
     "text": [
      "Least Square Fit:\n",
      "  chi2/dof [dof] = 1 [84]    Q = 0.47    logGBF = 2263.7\n",
      "\n",
      "Parameters:\n",
      "          E0_q0      0.7483 (73)       [     0.70 (14) ]  \n",
      "         Z0s_q0   0.0002154 (61)       [  0.00022 (11) ]  \n",
      "          E1_q0       -0.94 (33)       [    -0.70 (70) ]  \n",
      "         Z1s_q0    0.000084 (28)       [  0.00000 (11) ]  \n",
      "          E0_q1      0.7738 (71)       [     0.75 (15) ]  \n",
      "         Z0s_q1   0.0001995 (57)       [  0.00020 (10) ]  \n",
      "          E1_q1       -0.94 (33)       [    -0.8 (1.1) ]  \n",
      "         Z1s_q1   -0.000080 (25)       [  0.00000 (10) ]  \n",
      "          E0_q2      0.8410 (69)       [     0.85 (17) ]  \n",
      "         Z0s_q2   0.0001554 (58)       [ 0.000160 (80) ]  \n",
      "          E1_q2       -1.39 (43)       [    -1.0 (1.3) ]  \n",
      "         Z1s_q2   -0.000070 (19)       [  0.0(8.0)e-05 ]  \n",
      "         Y0s_q0   -0.000337 (14)       [ -0.00032 (16) ]  \n",
      "         Y1s_q0    -0.00009 (11)       [  0.00000 (32) ]  \n",
      "         Y0s_q1   -0.000314 (13)       [ -0.00030 (15) ]  \n",
      "         Y1s_q1    0.000084 (91)       [  0.00000 (30) ]  \n",
      "         Y0s_q2   -0.000237 (15)       [ -0.00024 (12) ]  \n",
      "         Y1s_q2    0.000142 (54)       [  0.00000 (24) ]  \n",
      "         V00_q0       1.054 (56)       [     1.2 (1.2) ]  \n",
      "         V10_q0      -0.032 (15)       [     0.0 (1.2) ]  \n",
      "         V11_q0     -0.06 (1.24)       [     0.0 (1.2) ]  \n",
      "         V00_q1       0.897 (48)       [     1.0 (1.0) ]  \n",
      "         V10_q1       0.046 (24)       [     0.0 (1.0) ]  \n",
      "         V11_q1       -0.03 (99)       [     0.0 (1.0) ]  \n",
      "         V00_q2       0.638 (44)       [     0.60 (60) ]  \n",
      "         V10_q2       0.134 (75)       [     0.00 (60) ]  \n",
      "         V11_q2     -0.006 (596)       [     0.00 (60) ]  \n",
      "\n",
      "Settings:\n",
      "  svdcut/n = 1e-12/6    tol = (1e-08*,1e-10,1e-10)    (itns/time = 24945/117.2)\n",
      "\n"
     ]
    }
   ],
   "source": [
    "for k in result.keys():\n",
    "    print(result[k])"
   ]
  },
  {
   "cell_type": "code",
   "execution_count": null,
   "metadata": {
    "collapsed": true
   },
   "outputs": [],
   "source": []
  }
 ],
 "metadata": {
  "kernelspec": {
   "display_name": "Python 3",
   "language": "python",
   "name": "python3"
  },
  "language_info": {
   "codemirror_mode": {
    "name": "ipython",
    "version": 3
   },
   "file_extension": ".py",
   "mimetype": "text/x-python",
   "name": "python",
   "nbconvert_exporter": "python",
   "pygments_lexer": "ipython3",
   "version": "3.6.1"
  }
 },
 "nbformat": 4,
 "nbformat_minor": 2
}
