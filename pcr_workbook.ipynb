{
 "cells": [
  {
   "cell_type": "markdown",
   "metadata": {},
   "source": [
    "# clover-on-clover connected proton charge radius"
   ]
  },
  {
   "cell_type": "code",
   "execution_count": 1,
   "metadata": {},
   "outputs": [],
   "source": [
    "import numpy as np\n",
    "import pandas as pd\n",
    "import gvar as gv\n",
    "import lsqfit\n",
    "import matplotlib.pyplot as plt\n",
    "%matplotlib notebook\n",
    "from tqdm import tqdm_notebook as tqdm\n",
    "import pcr_lib as pcr"
   ]
  },
  {
   "cell_type": "markdown",
   "metadata": {},
   "source": [
    "# switches"
   ]
  },
  {
   "cell_type": "code",
   "execution_count": 2,
   "metadata": {},
   "outputs": [],
   "source": [
    "switches = dict()\n",
    "# PLOTTING OPTIONS\n",
    "switches['plot'] = dict()\n",
    "switches['plot']['correlator'] = False\n",
    "# FITTING OPTIONS\n",
    "switches['fit'] = dict()\n",
    "switches['fit']['switch'] = True # turn fitting on/off\n",
    "# choose dataset\n",
    "switches['fit']['clist']   = ['nucleon'] #,'dnucleon','gV','dgV'] # the derivatives should be fit with the correlators or else there's no handel on the parameters\n",
    "switches['fit']['snk_src'] = ['SS']\n",
    "switches['fit']['mom']     = [0,1,2] # n in 2*n*pi/L\n",
    "switches['fit']['nstate']  = 2\n",
    "# time region\n",
    "switches['fit']['T_3pt']   = [10,14] # t_snk for 3pt: only 10 or 14\n",
    "switches['fit']['trange'] = dict()\n",
    "switches['fit']['trange']['nucleon_tmin']   = [5,5] # snk location\n",
    "switches['fit']['trange']['nucleon_tmax']   = [10,10] # snk location\n",
    "switches['fit']['trange']['dnucleon_tmin']   = [2,2] # snk location\n",
    "switches['fit']['trange']['dnucleon_tmax']   = [10,10] # snk location\n",
    "switches['fit']['trange']['gV_tmin']   = [2,2] # current insertion time\n",
    "switches['fit']['trange']['gV_tmax']   = [9,9] # current insertion time\n",
    "switches['fit']['trange']['dgV_tmin']   = [2,2] # current insertion time\n",
    "switches['fit']['trange']['dgV_tmax']   = [9,9] # current insertion time\n",
    "# PRIORS\n",
    "switches['p'] = dict()\n",
    "# nucleon q = 0\n",
    "switches['p']['E0_q0'] = gv.gvar(0.7,0.14)\n",
    "switches['p']['Z0s_q0'] = gv.gvar(4E-8,2E-8)\n",
    "switches['p']['Z0p_q0'] = gv.gvar(0.0,1.0)\n",
    "switches['p']['E1_q0'] = gv.gvar(-0.7,0.7) # log splitting to two pions\n",
    "switches['p']['Z1s_q0'] = gv.gvar(0.0,4E-8)\n",
    "switches['p']['Z1p_q0'] = gv.gvar(0.0,1.0)\n",
    "# nucleon q = 1\n",
    "switches['p']['E0_q1'] = gv.gvar(0.75,0.15)\n",
    "switches['p']['Z0s_q1'] = gv.gvar(6E-8,3E-8)\n",
    "switches['p']['Z0p_q1'] = gv.gvar(0.0,1.0)\n",
    "switches['p']['E1_q1'] = gv.gvar(-0.7,0.7)\n",
    "switches['p']['Z1s_q1'] = gv.gvar(0.0,6E-8)\n",
    "switches['p']['Z1p_q1'] = gv.gvar(0.0,1.0)\n",
    "# nucleon q = 2\n",
    "switches['p']['E0_q2'] = gv.gvar(0.85,0.17)\n",
    "switches['p']['Z0s_q2'] = gv.gvar(7E-8,3.5E-8)\n",
    "switches['p']['Z0p_q2'] = gv.gvar(0.0,1.0)\n",
    "switches['p']['E1_q2'] = gv.gvar(-0.7,0.7)\n",
    "switches['p']['Z1s_q2'] = gv.gvar(0.0,3.5E-8)\n",
    "switches['p']['Z1p_q2'] = gv.gvar(0.0,1.0)\n",
    "# dnucleon q = 0 (Y comes before Z... so it's a derivative? something like that)\n",
    "switches['p']['Y0s_q0'] = gv.gvar(3.2E-7,1.6E-7)\n",
    "switches['p']['Y0p_q0'] = gv.gvar(0.0,1.0)\n",
    "switches['p']['Y1s_q0'] = gv.gvar(0.0,3.2E-7)\n",
    "switches['p']['Y1p_q0'] = gv.gvar(0.0,1.0)\n",
    "# dnucleon q = 1\n",
    "switches['p']['Y0s_q1'] = gv.gvar(2.8E-7,1.4E-7)\n",
    "switches['p']['Y0p_q1'] = gv.gvar(0.0,1.0)\n",
    "switches['p']['Y1s_q1'] = gv.gvar(0.0,2.8E-7)\n",
    "switches['p']['Y1p_q1'] = gv.gvar(0.0,1.0)\n",
    "# dnucleon q = 2\n",
    "switches['p']['Y0s_q2'] = gv.gvar(1.8E-7,0.9E-7)\n",
    "switches['p']['Y0p_q2'] = gv.gvar(0.0,1.0)\n",
    "switches['p']['Y1s_q2'] = gv.gvar(0.0,1.8E-7)\n",
    "switches['p']['Y1p_q2'] = gv.gvar(0.0,1.0)\n",
    "# gV q = 0\n",
    "switches['p']['G00_q0'] = gv.gvar(0.0,1.0)\n",
    "switches['p']['G10_q0'] = gv.gvar(0.0,1.0)\n",
    "switches['p']['G11_q0'] = gv.gvar(0.0,1.0)\n",
    "# gV q = 1\n",
    "switches['p']['G00_q1'] = gv.gvar(0.0,1.0)\n",
    "switches['p']['G10_q1'] = gv.gvar(0.0,1.0)\n",
    "switches['p']['G11_q1'] = gv.gvar(0.0,1.0)\n",
    "# gV q = 2\n",
    "switches['p']['G00_q2'] = gv.gvar(0.0,1.0)\n",
    "switches['p']['G10_q2'] = gv.gvar(0.0,1.0)\n",
    "switches['p']['G11_q2'] = gv.gvar(0.0,1.0)\n",
    "# dgV q = 0\n",
    "switches['p']['F00_q0'] = gv.gvar(0.0,1.0)\n",
    "switches['p']['F10_q0'] = gv.gvar(0.0,1.0)\n",
    "switches['p']['F11_q0'] = gv.gvar(0.0,1.0)\n",
    "# dgV q = 1\n",
    "switches['p']['F00_q1'] = gv.gvar(0.0,1.0)\n",
    "switches['p']['F10_q1'] = gv.gvar(0.0,1.0)\n",
    "switches['p']['F11_q1'] = gv.gvar(0.0,1.0)\n",
    "# dgV q = 2\n",
    "switches['p']['F00_q2'] = gv.gvar(0.0,1.0)\n",
    "switches['p']['F10_q2'] = gv.gvar(0.0,1.0)\n",
    "switches['p']['F11_q2'] = gv.gvar(0.0,1.0)"
   ]
  },
  {
   "cell_type": "markdown",
   "metadata": {},
   "source": [
    "# read csv file into dataframe\n",
    "## ensemble information\n",
    "+ 0.12fm lattice spacing\n",
    "+ pion mass 400 MeV\n",
    "+ isoclover\n",
    "\n",
    "## configuration information\n",
    "+ 1000 to 2950 skip 10 (196 configurations)\n",
    "    + configuration 1470 is missing for baryon 2pt tsrc 48, idx = 47\n",
    "+ two point correlation function\n",
    "    + `bar_s22_SS_tsrc_[0,48].dat.[re,im]`\n",
    "    + two sources at `[0,48]`\n",
    "    + each line contains:\n",
    "        + individual momentum `[0,1,-1,2,-2]`\n",
    "        + individual time slice\n",
    "        + array of z-dependence\n",
    "        + *e.g.* `bar_s22_S0src_S0_px0_py0_pz0_t0_re`\n",
    "+ three point correlation function\n",
    "    + `barff_s22_SS_g8_T[10,14]_tsrc_[0,48].dat.[re,im]`\n",
    "    + `g8` corresponds to the `V4` current insertion\n",
    "    + `T[10,14]` is snk location\n",
    "    + two sources at `[0,48]`\n",
    "    + each line contains:\n",
    "        + individual momentum transfer (snk at zero momentum) `[0,1,-1,2,-2]`\n",
    "        + individual time slice\n",
    "        + array of z-dependence at current insertion\n",
    "        + *e.g.* `barff_s2_S0src_S0snk_T10_px0_py0_pz0_g8_t0_re`\n",
    "\n",
    "## strategy\n",
    "+ read zero momentum spatial correlator\n",
    "+ perform source average\n",
    "+ construct two and three point (with momentum transfer)\n",
    "+ construct moment correlators\n",
    "\n",
    "## notes\n",
    "+ read SS src snk"
   ]
  },
  {
   "cell_type": "code",
   "execution_count": 3,
   "metadata": {},
   "outputs": [
    {
     "name": "stdout",
     "output_type": "stream",
     "text": [
      "2pt: bar_s22_S0src_S0_px0_py0_pz0_re (195, 96, 32)\n"
     ]
    }
   ],
   "source": [
    "zdata = pcr.read_csv(switches)"
   ]
  },
  {
   "cell_type": "markdown",
   "metadata": {},
   "source": [
    "# construct two and three point correlators\n",
    "+ Lattice 2016 proceedings @ https://arxiv.org/pdf/1610.02354.pdf\n",
    "+ project to definite momentum"
   ]
  },
  {
   "cell_type": "code",
   "execution_count": 4,
   "metadata": {},
   "outputs": [
    {
     "data": {
      "text/plain": [
       "dict_keys(['nucleon_SS_q0', 'nucleon_SS_q1', 'nucleon_SS_q2'])"
      ]
     },
     "execution_count": 4,
     "metadata": {},
     "output_type": "execute_result"
    }
   ],
   "source": [
    "data = dict()\n",
    "# two point correlation function\n",
    "if 'nucleon' in switches['fit']['clist']:\n",
    "    for snk_src in switches['fit']['snk_src']:\n",
    "        snk = snk_src[0]\n",
    "        src = snk_src[1]\n",
    "        for n in switches['fit']['mom']:\n",
    "            k = 2.*np.pi*n/32\n",
    "            pos = zdata['bar_s22_%s0src_%s0_px0_py0_pz0_re' %(src,snk)]*np.cos(k*np.arange(32))\n",
    "            neg = zdata['bar_s22_%s0src_%s0_px0_py0_pz0_re' %(src,snk)]*np.cos(-k*np.arange(32))\n",
    "            data['nucleon_%s_q%s' %(str(snk_src),str(n))] = np.sum((pos+neg)/2,axis=2) # mom avg & project to 3 momentum\n",
    "# gV correlation function\n",
    "if 'gV' in switches['fit']['clist']:\n",
    "    for snk_src in switches['fit']['snk_src']:\n",
    "        snk = snk_src[0]\n",
    "        src = snk_src[1]\n",
    "        for n in switches['fit']['mom']:\n",
    "            k = 2.*np.pi*n/32\n",
    "            for T in switches['fit']['T_3pt']:\n",
    "                pos = zdata['barff_s2_%s0src_%s0snk_T%s_px0_py0_pz0_g8_re' %(src,snk,str(T))]*np.cos(k*np.arange(32))\n",
    "                neg = zdata['barff_s2_%s0src_%s0snk_T%s_px0_py0_pz0_g8_re' %(src,snk,str(T))]*np.cos(-k*np.arange(32))\n",
    "                data['gV_%s_T%s_q%s' %(str(snk_src),str(T),str(n))] = np.sum((pos+neg)/2,axis=2) # mom avg & project to 3 momentum\n",
    "data.keys()"
   ]
  },
  {
   "cell_type": "markdown",
   "metadata": {},
   "source": [
    "# construct moments of correlation functions"
   ]
  },
  {
   "cell_type": "code",
   "execution_count": 5,
   "metadata": {
    "scrolled": true
   },
   "outputs": [
    {
     "name": "stdout",
     "output_type": "stream",
     "text": [
      "dict_keys(['nucleon_SS_q0', 'nucleon_SS_q1', 'nucleon_SS_q2'])\n"
     ]
    }
   ],
   "source": [
    "# two point moment data\n",
    "z = np.roll(np.arange(32)-15,17)\n",
    "rz2 = z**2\n",
    "# apply moment\n",
    "# output is Ncf * T * Z\n",
    "if 'dnucleon' in switches['fit']['clist']:\n",
    "    for q in switches['fit']['mom']:\n",
    "        for snk_src in switches['fit']['snk_src']:\n",
    "            snk = snk_src[0]\n",
    "            src = snk_src[1]\n",
    "            if q == 0:\n",
    "                D = 0.5*rz2\n",
    "            else:\n",
    "                k = 2.*np.pi*q/32\n",
    "                D = z/(2.*k)*np.sin(k*np.arange(32))\n",
    "            if 'dnucleon' in switches['fit']['clist']:\n",
    "                temp = D*zdata['bar_s22_%s0src_%s0_px0_py0_pz0_re' %(src,snk)]\n",
    "                # UNCOMMENT TO PLOT Z DEPENDENCE\n",
    "                #pcr.plot_2pt_z(temp,title='2pt') #title='dnucleon_%s_q%s' %(snk_src,str(q)))\n",
    "                # project to 3 momentum\n",
    "                data['dnucleon_%s_q%s' %(snk_src,str(q))] = np.sum(temp,axis=2)\n",
    "            if 'dgV' in switches['fit']['clist']:\n",
    "                for T in switches['fit']['T_3pt']:\n",
    "                    temp = D*zdata['barff_s2_%s0src_%s0snk_T%s_px0_py0_pz0_g8_re' %(src,snk,str(T))]\n",
    "                    # UNCOMMENT TO PLOT Z DEPENDENCE\n",
    "                    #pcr.plot_3pt_z(temp,title='3pt') #title='dgV_%s_T%s_q%s' %(snk_src,str(T),str(q)))\n",
    "                    # project 3 momentum\n",
    "                    data['dgV_%s_T%s_q%s' %(snk_src,str(T),str(q))] = np.sum(temp,axis=2)\n",
    "print(data.keys())"
   ]
  },
  {
   "cell_type": "markdown",
   "metadata": {},
   "source": [
    "# construct correlated dataset"
   ]
  },
  {
   "cell_type": "code",
   "execution_count": 6,
   "metadata": {},
   "outputs": [
    {
     "name": "stdout",
     "output_type": "stream",
     "text": [
      "nucleon_SS_q0 (96,)\n",
      "nucleon_SS_q1 (96,)\n",
      "nucleon_SS_q2 (96,)\n"
     ]
    }
   ],
   "source": [
    "gvdata = gv.dataset.avg_data(data)\n",
    "for k in gvdata.keys():\n",
    "    print(k,np.shape(gvdata[k]))"
   ]
  },
  {
   "cell_type": "markdown",
   "metadata": {},
   "source": [
    "# plot correlation function"
   ]
  },
  {
   "cell_type": "code",
   "execution_count": 7,
   "metadata": {
    "scrolled": false
   },
   "outputs": [],
   "source": [
    "dat2name = [i for i in gvdata.keys() if i.split('_')[0] in ['nucleon']]\n",
    "datd2name = [i for i in gvdata.keys() if i.split('_')[0] in ['dnucleon']]\n",
    "if switches['plot']['correlator']:\n",
    "    # plot effective mass correlator\n",
    "    fig = plt.figure('meff',figsize=(7,4.326237))\n",
    "    ax = plt.axes([0.15,0.15,0.8,0.8])\n",
    "    x = np.arange(2,18)\n",
    "    for d in dat2name:\n",
    "        meff = np.log(gvdata[d]/np.roll(gvdata[d],-1))[x]\n",
    "        ax.errorbar(x,y=[i.mean for i in meff],yerr=[i.sdev for i in meff],label=d)\n",
    "    ax.legend()\n",
    "    plt.draw()\n",
    "    # plot scaled two point correlator (SS ONLY NOW)\n",
    "    fit = plt.figure('scaled correlator',figsize=(7,4.326237))\n",
    "    ax = plt.axes([0.15,0.15,0.8,0.8])\n",
    "    x = np.arange(2,11)\n",
    "    for d in dat2name:\n",
    "        meff = np.log(gvdata[d]/np.roll(gvdata[d],-1))\n",
    "        scor = (gvdata[d]*2*meff*np.exp(meff*np.arange(len(meff))))[x]\n",
    "        ax.errorbar(x,y=[i.mean for i in scor],yerr=[i.sdev for i in scor],label=d)\n",
    "    ax.legend()\n",
    "    plt.draw()\n",
    "    # plot two point slope (SS ONLY NOW)\n",
    "    fit = plt.figure('two point slope',figsize=(7,4.326237))\n",
    "    ax = plt.axes([0.15,0.15,0.8,0.8])\n",
    "    x = np.arange(2,11)\n",
    "    for dd in datd2name:\n",
    "        d = dd[1:] # two point name (take out derivative)\n",
    "        meff = np.log(gvdata[d]/np.roll(gvdata[d],-1))\n",
    "        scor = gvdata[d]*2*meff*np.exp(meff*np.arange(len(meff)))\n",
    "        dcor = ((gvdata[dd]/gvdata[d]+0.5/meff**2+0.5*np.arange(len(meff))/meff)*0.5*scor)[x]\n",
    "        ax.errorbar(x,y=[i.mean for i in dcor],yerr=[i.sdev for i in dcor],label=d)\n",
    "    ax.legend()\n",
    "    plt.draw()\n",
    "    # plot three point correlator (SS ONLY NOW)\n",
    "    dat3name = ['gV_SS_T10_q0','dgV_SS_T10_q0']\n",
    "    fig = plt.figure('correlator',figsize=(7,4.326237))\n",
    "    ax = plt.axes([0.15,0.15,0.8,0.8])\n",
    "    x = np.arange(0,16)\n",
    "    for d in dat3name:\n",
    "        corr = gvdata[d][x]\n",
    "        ax.errorbar(x,y=[i.mean for i in corr],yerr=[i.sdev for i in corr])\n",
    "    plt.draw()"
   ]
  },
  {
   "cell_type": "markdown",
   "metadata": {},
   "source": [
    "# fit correlators\n",
    "+ blahblah... I'm too lazy for this... I will regret it later"
   ]
  },
  {
   "cell_type": "code",
   "execution_count": 8,
   "metadata": {},
   "outputs": [
    {
     "name": "stderr",
     "output_type": "stream",
     "text": [
      "/Users/cchang5/Physics/pcr/pcr_lib.py:150: RuntimeWarning: overflow encountered in exp\n",
      "  return Zn_snk*Zn_src*np.exp(-En*T) / (2.*En)\n",
      "/Users/cchang5/Physics/pcr/pcr_lib.py:150: RuntimeWarning: overflow encountered in double_scalars\n",
      "  return Zn_snk*Zn_src*np.exp(-En*T) / (2.*En)\n"
     ]
    },
    {
     "ename": "KeyError",
     "evalue": "'undefined key: Z2s_q0'",
     "output_type": "error",
     "traceback": [
      "\u001b[0;31m---------------------------------------------------------------------------\u001b[0m",
      "\u001b[0;31mKeyError\u001b[0m                                  Traceback (most recent call last)",
      "\u001b[0;32m<ipython-input-8-f5c7f070754a>\u001b[0m in \u001b[0;36m<module>\u001b[0;34m()\u001b[0m\n\u001b[1;32m     28\u001b[0m                                 \u001b[0my\u001b[0m \u001b[0;34m=\u001b[0m \u001b[0mfitter\u001b[0m\u001b[0;34m.\u001b[0m\u001b[0my\u001b[0m\u001b[0;34m(\u001b[0m\u001b[0mx\u001b[0m\u001b[0;34m,\u001b[0m\u001b[0mgvdata\u001b[0m\u001b[0;34m)\u001b[0m\u001b[0;34m\u001b[0m\u001b[0m\n\u001b[1;32m     29\u001b[0m                                 \u001b[0;32mif\u001b[0m \u001b[0mswitches\u001b[0m\u001b[0;34m[\u001b[0m\u001b[0;34m'fit'\u001b[0m\u001b[0;34m]\u001b[0m\u001b[0;34m[\u001b[0m\u001b[0;34m'switch'\u001b[0m\u001b[0;34m]\u001b[0m\u001b[0;34m:\u001b[0m\u001b[0;34m\u001b[0m\u001b[0m\n\u001b[0;32m---> 30\u001b[0;31m                                     \u001b[0mfit\u001b[0m \u001b[0;34m=\u001b[0m \u001b[0mlsqfit\u001b[0m\u001b[0;34m.\u001b[0m\u001b[0mnonlinear_fit\u001b[0m\u001b[0;34m(\u001b[0m\u001b[0mdata\u001b[0m\u001b[0;34m=\u001b[0m\u001b[0;34m(\u001b[0m\u001b[0mx\u001b[0m\u001b[0;34m,\u001b[0m\u001b[0my\u001b[0m\u001b[0;34m)\u001b[0m\u001b[0;34m,\u001b[0m\u001b[0mprior\u001b[0m\u001b[0;34m=\u001b[0m\u001b[0mp\u001b[0m\u001b[0;34m,\u001b[0m\u001b[0mfcn\u001b[0m\u001b[0;34m=\u001b[0m\u001b[0mfitter\u001b[0m\u001b[0;34m.\u001b[0m\u001b[0mfit_function\u001b[0m\u001b[0;34m,\u001b[0m\u001b[0mmaxit\u001b[0m\u001b[0;34m=\u001b[0m\u001b[0;36m1000000\u001b[0m\u001b[0;34m)\u001b[0m\u001b[0;34m\u001b[0m\u001b[0m\n\u001b[0m\u001b[1;32m     31\u001b[0m                                 \u001b[0;32melse\u001b[0m\u001b[0;34m:\u001b[0m\u001b[0;34m\u001b[0m\u001b[0m\n\u001b[1;32m     32\u001b[0m                                     \u001b[0mfit\u001b[0m \u001b[0;34m=\u001b[0m \u001b[0;34m'turn fitting on'\u001b[0m\u001b[0;34m\u001b[0m\u001b[0m\n",
      "\u001b[0;32m/Users/cchang5/anaconda/envs/pyqcd3/lib/python3.6/site-packages/lsqfit/__init__.py\u001b[0m in \u001b[0;36m__init__\u001b[0;34m(self, data, fcn, prior, p0, extend, svdcut, debug, tol, maxit, udata, fitter, **fitterargs)\u001b[0m\n\u001b[1;32m    592\u001b[0m         \u001b[0;31m# do the fit and save results\u001b[0m\u001b[0;34m\u001b[0m\u001b[0;34m\u001b[0m\u001b[0m\n\u001b[1;32m    593\u001b[0m         fit = nonlinear_fit.FITTERS[self.fitter](\n\u001b[0;32m--> 594\u001b[0;31m             \u001b[0mp0\u001b[0m\u001b[0;34m,\u001b[0m \u001b[0mnf\u001b[0m\u001b[0;34m,\u001b[0m \u001b[0mself\u001b[0m\u001b[0;34m.\u001b[0m\u001b[0m_chiv\u001b[0m\u001b[0;34m,\u001b[0m \u001b[0mtol\u001b[0m\u001b[0;34m=\u001b[0m\u001b[0mtol\u001b[0m\u001b[0;34m,\u001b[0m \u001b[0mmaxit\u001b[0m\u001b[0;34m=\u001b[0m\u001b[0mmaxit\u001b[0m\u001b[0;34m,\u001b[0m \u001b[0;34m**\u001b[0m\u001b[0mself\u001b[0m\u001b[0;34m.\u001b[0m\u001b[0mfitterargs\u001b[0m\u001b[0;34m\u001b[0m\u001b[0m\n\u001b[0m\u001b[1;32m    595\u001b[0m             )\n\u001b[1;32m    596\u001b[0m         \u001b[0mself\u001b[0m\u001b[0;34m.\u001b[0m\u001b[0merror\u001b[0m \u001b[0;34m=\u001b[0m \u001b[0mfit\u001b[0m\u001b[0;34m.\u001b[0m\u001b[0merror\u001b[0m\u001b[0;34m\u001b[0m\u001b[0m\n",
      "\u001b[0;32msrc/lsqfit/_gsl.pyx\u001b[0m in \u001b[0;36mlsqfit._gsl.gsl_multifit.__init__ (src/lsqfit/_gsl.c:5084)\u001b[0;34m()\u001b[0m\n",
      "\u001b[0;32msrc/lsqfit/_gsl.pyx\u001b[0m in \u001b[0;36mlsqfit._gsl._c_f (src/lsqfit/_gsl.c:5699)\u001b[0;34m()\u001b[0m\n",
      "\u001b[0;32msrc/lsqfit/_utilities.pyx\u001b[0m in \u001b[0;36mlsqfit._utilities._build_chiv_chivw.chiv (src/lsqfit/_utilities.c:3361)\u001b[0;34m()\u001b[0m\n",
      "\u001b[0;32m/Users/cchang5/anaconda/envs/pyqcd3/lib/python3.6/site-packages/lsqfit/__init__.py\u001b[0m in \u001b[0;36mnfcn\u001b[0;34m(p, x, fcn, po, yo)\u001b[0m\n\u001b[1;32m   1572\u001b[0m             \u001b[0;32mdef\u001b[0m \u001b[0mnfcn\u001b[0m\u001b[0;34m(\u001b[0m\u001b[0mp\u001b[0m\u001b[0;34m,\u001b[0m \u001b[0mx\u001b[0m\u001b[0;34m=\u001b[0m\u001b[0mx\u001b[0m\u001b[0;34m,\u001b[0m \u001b[0mfcn\u001b[0m\u001b[0;34m=\u001b[0m\u001b[0mfcn\u001b[0m\u001b[0;34m,\u001b[0m \u001b[0mpo\u001b[0m\u001b[0;34m=\u001b[0m\u001b[0mpo\u001b[0m\u001b[0;34m,\u001b[0m \u001b[0myo\u001b[0m\u001b[0;34m=\u001b[0m\u001b[0myo\u001b[0m\u001b[0;34m)\u001b[0m\u001b[0;34m:\u001b[0m\u001b[0;34m\u001b[0m\u001b[0m\n\u001b[1;32m   1573\u001b[0m                 \u001b[0mpo\u001b[0m\u001b[0;34m.\u001b[0m\u001b[0mbuf\u001b[0m \u001b[0;34m=\u001b[0m \u001b[0mp\u001b[0m\u001b[0;34m\u001b[0m\u001b[0m\n\u001b[0;32m-> 1574\u001b[0;31m                 \u001b[0mfxp\u001b[0m \u001b[0;34m=\u001b[0m \u001b[0mfcn\u001b[0m\u001b[0;34m(\u001b[0m\u001b[0mpo\u001b[0m\u001b[0;34m)\u001b[0m \u001b[0;32mif\u001b[0m \u001b[0mx\u001b[0m \u001b[0;32mis\u001b[0m \u001b[0;32mFalse\u001b[0m \u001b[0;32melse\u001b[0m \u001b[0mfcn\u001b[0m\u001b[0;34m(\u001b[0m\u001b[0mx\u001b[0m\u001b[0;34m,\u001b[0m \u001b[0mpo\u001b[0m\u001b[0;34m)\u001b[0m\u001b[0;34m\u001b[0m\u001b[0m\n\u001b[0m\u001b[1;32m   1575\u001b[0m                 \u001b[0;32mfor\u001b[0m \u001b[0mk\u001b[0m \u001b[0;32min\u001b[0m \u001b[0myo\u001b[0m\u001b[0;34m:\u001b[0m\u001b[0;34m\u001b[0m\u001b[0m\n\u001b[1;32m   1576\u001b[0m                     \u001b[0myo\u001b[0m\u001b[0;34m[\u001b[0m\u001b[0mk\u001b[0m\u001b[0;34m]\u001b[0m \u001b[0;34m=\u001b[0m \u001b[0mfxp\u001b[0m\u001b[0;34m[\u001b[0m\u001b[0mk\u001b[0m\u001b[0;34m]\u001b[0m\u001b[0;34m\u001b[0m\u001b[0m\n",
      "\u001b[0;32m/Users/cchang5/Physics/pcr/pcr_lib.py\u001b[0m in \u001b[0;36mfit_function\u001b[0;34m(self, x, p)\u001b[0m\n\u001b[1;32m    232\u001b[0m             \u001b[0mcla\u001b[0m \u001b[0;34m=\u001b[0m \u001b[0mk\u001b[0m\u001b[0;34m.\u001b[0m\u001b[0msplit\u001b[0m\u001b[0;34m(\u001b[0m\u001b[0;34m'_'\u001b[0m\u001b[0;34m)\u001b[0m\u001b[0;34m[\u001b[0m\u001b[0;36m0\u001b[0m\u001b[0;34m]\u001b[0m\u001b[0;34m\u001b[0m\u001b[0m\n\u001b[1;32m    233\u001b[0m             \u001b[0;32mif\u001b[0m \u001b[0mcla\u001b[0m \u001b[0;32min\u001b[0m \u001b[0;34m[\u001b[0m\u001b[0;34m'nucleon'\u001b[0m\u001b[0;34m]\u001b[0m\u001b[0;34m:\u001b[0m\u001b[0;34m\u001b[0m\u001b[0m\n\u001b[0;32m--> 234\u001b[0;31m                 \u001b[0mr\u001b[0m\u001b[0;34m[\u001b[0m\u001b[0mk\u001b[0m\u001b[0;34m]\u001b[0m \u001b[0;34m=\u001b[0m \u001b[0mself\u001b[0m\u001b[0;34m.\u001b[0m\u001b[0mtwopt\u001b[0m\u001b[0;34m(\u001b[0m\u001b[0mx\u001b[0m\u001b[0;34m[\u001b[0m\u001b[0mk\u001b[0m\u001b[0;34m]\u001b[0m\u001b[0;34m,\u001b[0m\u001b[0mp\u001b[0m\u001b[0;34m)\u001b[0m\u001b[0;34m\u001b[0m\u001b[0m\n\u001b[0m\u001b[1;32m    235\u001b[0m             \u001b[0;32melif\u001b[0m \u001b[0mcla\u001b[0m \u001b[0;32min\u001b[0m \u001b[0;34m[\u001b[0m\u001b[0;34m'dnucleon'\u001b[0m\u001b[0;34m]\u001b[0m\u001b[0;34m:\u001b[0m\u001b[0;34m\u001b[0m\u001b[0m\n\u001b[1;32m    236\u001b[0m                 \u001b[0mr\u001b[0m\u001b[0;34m[\u001b[0m\u001b[0mk\u001b[0m\u001b[0;34m]\u001b[0m \u001b[0;34m=\u001b[0m \u001b[0mself\u001b[0m\u001b[0;34m.\u001b[0m\u001b[0mdtwopt\u001b[0m\u001b[0;34m(\u001b[0m\u001b[0mx\u001b[0m\u001b[0;34m[\u001b[0m\u001b[0mk\u001b[0m\u001b[0;34m]\u001b[0m\u001b[0;34m,\u001b[0m\u001b[0mp\u001b[0m\u001b[0;34m)\u001b[0m\u001b[0;34m\u001b[0m\u001b[0m\n",
      "\u001b[0;32m/Users/cchang5/Physics/pcr/pcr_lib.py\u001b[0m in \u001b[0;36mtwopt\u001b[0;34m(self, x, p)\u001b[0m\n\u001b[1;32m    159\u001b[0m         \u001b[0;32mfor\u001b[0m \u001b[0mn\u001b[0m \u001b[0;32min\u001b[0m \u001b[0mrange\u001b[0m\u001b[0;34m(\u001b[0m\u001b[0mself\u001b[0m\u001b[0;34m.\u001b[0m\u001b[0mnstate\u001b[0m\u001b[0;34m)\u001b[0m\u001b[0;34m:\u001b[0m\u001b[0;34m\u001b[0m\u001b[0m\n\u001b[1;32m    160\u001b[0m             \u001b[0mEn\u001b[0m \u001b[0;34m=\u001b[0m \u001b[0mself\u001b[0m\u001b[0;34m.\u001b[0m\u001b[0mE\u001b[0m\u001b[0;34m(\u001b[0m\u001b[0mp\u001b[0m\u001b[0;34m,\u001b[0m\u001b[0mq\u001b[0m\u001b[0;34m,\u001b[0m\u001b[0mn\u001b[0m\u001b[0;34m)\u001b[0m\u001b[0;34m\u001b[0m\u001b[0m\n\u001b[0;32m--> 161\u001b[0;31m             \u001b[0mZn_snk\u001b[0m \u001b[0;34m=\u001b[0m \u001b[0mself\u001b[0m\u001b[0;34m.\u001b[0m\u001b[0mZ\u001b[0m\u001b[0;34m(\u001b[0m\u001b[0mp\u001b[0m\u001b[0;34m,\u001b[0m\u001b[0mn\u001b[0m\u001b[0;34m,\u001b[0m\u001b[0mq\u001b[0m\u001b[0;34m,\u001b[0m\u001b[0msnk\u001b[0m\u001b[0;34m)\u001b[0m\u001b[0;34m\u001b[0m\u001b[0m\n\u001b[0m\u001b[1;32m    162\u001b[0m             \u001b[0mZn_src\u001b[0m \u001b[0;34m=\u001b[0m \u001b[0mself\u001b[0m\u001b[0;34m.\u001b[0m\u001b[0mZ\u001b[0m\u001b[0;34m(\u001b[0m\u001b[0mp\u001b[0m\u001b[0;34m,\u001b[0m\u001b[0mn\u001b[0m\u001b[0;34m,\u001b[0m\u001b[0mq\u001b[0m\u001b[0;34m,\u001b[0m\u001b[0msrc\u001b[0m\u001b[0;34m)\u001b[0m\u001b[0;34m\u001b[0m\u001b[0m\n\u001b[1;32m    163\u001b[0m             \u001b[0mr\u001b[0m \u001b[0;34m+=\u001b[0m \u001b[0mself\u001b[0m\u001b[0;34m.\u001b[0m\u001b[0mc2pt\u001b[0m\u001b[0;34m(\u001b[0m\u001b[0mT\u001b[0m\u001b[0;34m,\u001b[0m\u001b[0mEn\u001b[0m\u001b[0;34m,\u001b[0m\u001b[0mZn_snk\u001b[0m\u001b[0;34m,\u001b[0m\u001b[0mZn_src\u001b[0m\u001b[0;34m)\u001b[0m\u001b[0;34m\u001b[0m\u001b[0m\n",
      "\u001b[0;32m/Users/cchang5/Physics/pcr/pcr_lib.py\u001b[0m in \u001b[0;36mZ\u001b[0;34m(self, p, q, n, s)\u001b[0m\n\u001b[1;32m    144\u001b[0m         \u001b[0;32mreturn\u001b[0m \u001b[0mEn\u001b[0m\u001b[0;34m\u001b[0m\u001b[0m\n\u001b[1;32m    145\u001b[0m     \u001b[0;32mdef\u001b[0m \u001b[0mZ\u001b[0m\u001b[0;34m(\u001b[0m\u001b[0mself\u001b[0m\u001b[0;34m,\u001b[0m\u001b[0mp\u001b[0m\u001b[0;34m,\u001b[0m\u001b[0mq\u001b[0m\u001b[0;34m,\u001b[0m\u001b[0mn\u001b[0m\u001b[0;34m,\u001b[0m\u001b[0ms\u001b[0m\u001b[0;34m)\u001b[0m\u001b[0;34m:\u001b[0m\u001b[0;34m\u001b[0m\u001b[0m\n\u001b[0;32m--> 146\u001b[0;31m         \u001b[0;32mreturn\u001b[0m \u001b[0mp\u001b[0m\u001b[0;34m[\u001b[0m\u001b[0;34m'Z%s%s_q%s'\u001b[0m \u001b[0;34m%\u001b[0m\u001b[0;34m(\u001b[0m\u001b[0mstr\u001b[0m\u001b[0;34m(\u001b[0m\u001b[0mn\u001b[0m\u001b[0;34m)\u001b[0m\u001b[0;34m,\u001b[0m\u001b[0mstr\u001b[0m\u001b[0;34m(\u001b[0m\u001b[0ms\u001b[0m\u001b[0;34m)\u001b[0m\u001b[0;34m,\u001b[0m\u001b[0mstr\u001b[0m\u001b[0;34m(\u001b[0m\u001b[0mq\u001b[0m\u001b[0;34m)\u001b[0m\u001b[0;34m)\u001b[0m\u001b[0;34m]\u001b[0m\u001b[0;34m\u001b[0m\u001b[0m\n\u001b[0m\u001b[1;32m    147\u001b[0m     \u001b[0;32mdef\u001b[0m \u001b[0mdZ\u001b[0m\u001b[0;34m(\u001b[0m\u001b[0mself\u001b[0m\u001b[0;34m,\u001b[0m\u001b[0mp\u001b[0m\u001b[0;34m,\u001b[0m\u001b[0mq\u001b[0m\u001b[0;34m,\u001b[0m\u001b[0mns\u001b[0m\u001b[0;34m)\u001b[0m\u001b[0;34m:\u001b[0m\u001b[0;34m\u001b[0m\u001b[0m\n\u001b[1;32m    148\u001b[0m         \u001b[0;32mreturn\u001b[0m \u001b[0mp\u001b[0m\u001b[0;34m[\u001b[0m\u001b[0;34m'Y%s%s_q%s'\u001b[0m \u001b[0;34m%\u001b[0m\u001b[0;34m(\u001b[0m\u001b[0mstr\u001b[0m\u001b[0;34m(\u001b[0m\u001b[0mn\u001b[0m\u001b[0;34m)\u001b[0m\u001b[0;34m,\u001b[0m\u001b[0mstr\u001b[0m\u001b[0;34m(\u001b[0m\u001b[0ms\u001b[0m\u001b[0;34m)\u001b[0m\u001b[0;34m,\u001b[0m\u001b[0mstr\u001b[0m\u001b[0;34m(\u001b[0m\u001b[0mq\u001b[0m\u001b[0;34m)\u001b[0m\u001b[0;34m)\u001b[0m\u001b[0;34m]\u001b[0m\u001b[0;34m\u001b[0m\u001b[0m\n",
      "\u001b[0;32msrc/gvar/_bufferdict.pyx\u001b[0m in \u001b[0;36mgvar._bufferdict.BufferDict.__getitem__ (src/gvar/_bufferdict.c:4996)\u001b[0;34m()\u001b[0m\n",
      "\u001b[0;31mKeyError\u001b[0m: 'undefined key: Z2s_q0'"
     ]
    }
   ],
   "source": [
    "# instantiate fitter\n",
    "fitter = pcr.fitter_class(switches['fit']['clist'],switches['fit']['snk_src'],switches['fit']['mom'],switches['fit']['nstate'])\n",
    "# get priors\n",
    "p = fitter.p(switches)\n",
    "# loop over t-range\n",
    "nucleon_tmin = switches['fit']['trange']['nucleon_tmin']\n",
    "nucleon_tmax = switches['fit']['trange']['nucleon_tmax']\n",
    "dnucleon_tmin = switches['fit']['trange']['dnucleon_tmin']\n",
    "dnucleon_tmax = switches['fit']['trange']['dnucleon_tmax']\n",
    "gV_tmin = switches['fit']['trange']['gV_tmin']\n",
    "gV_tmax = switches['fit']['trange']['gV_tmax']\n",
    "dgV_tmin = switches['fit']['trange']['dgV_tmin']\n",
    "dgV_tmax = switches['fit']['trange']['dgV_tmax']\n",
    "for t2min in np.arange(nucleon_tmin[0],nucleon_tmin[1]+1):\n",
    "    for t2max in np.arange(nucleon_tmax[0],nucleon_tmax[1]+1):\n",
    "        for dt2min in np.arange(dnucleon_tmin[0],dnucleon_tmin[1]+1):\n",
    "            for dt2max in np.arange(dnucleon_tmax[0],dnucleon_tmax[1]+1):\n",
    "                for t3min in np.arange(gV_tmin[0],gV_tmin[1]+1):\n",
    "                    for t3max in np.arange(gV_tmax[0],gV_tmax[1]+1):\n",
    "                        for dt3min in np.arange(dgV_tmin[0],dgV_tmin[1]+1):\n",
    "                            for dt3max in np.arange(dgV_tmax[0],dgV_tmax[1]+1):\n",
    "                                trange = dict()\n",
    "                                trange['nucleon'] = np.arange(t2min,t2max+1)\n",
    "                                trange['dnucleon'] = np.arange(dt2min,dt2max+1)\n",
    "                                trange['gV'] = np.arange(t3min,t3max+1)\n",
    "                                trange['dgV'] = np.arange(dt3min,dt3max+1)\n",
    "                                x = fitter.x(switches,gvdata,trange)\n",
    "                                y = fitter.y(x,gvdata)\n",
    "                                if switches['fit']['switch']:\n",
    "                                    fit = lsqfit.nonlinear_fit(data=(x,y),prior=p,fcn=fitter.fit_function,maxit=1000000)\n",
    "                                else:\n",
    "                                    fit = 'turn fitting on'\n",
    "                                print(fit)"
   ]
  },
  {
   "cell_type": "code",
   "execution_count": null,
   "metadata": {
    "collapsed": true
   },
   "outputs": [],
   "source": []
  },
  {
   "cell_type": "code",
   "execution_count": null,
   "metadata": {
    "collapsed": true
   },
   "outputs": [],
   "source": []
  }
 ],
 "metadata": {
  "kernelspec": {
   "display_name": "Python 3",
   "language": "python",
   "name": "python3"
  },
  "language_info": {
   "codemirror_mode": {
    "name": "ipython",
    "version": 3
   },
   "file_extension": ".py",
   "mimetype": "text/x-python",
   "name": "python",
   "nbconvert_exporter": "python",
   "pygments_lexer": "ipython3",
   "version": "3.6.1"
  }
 },
 "nbformat": 4,
 "nbformat_minor": 2
}
